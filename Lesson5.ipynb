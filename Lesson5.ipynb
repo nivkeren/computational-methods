{
 "cells": [
  {
   "cell_type": "markdown",
   "metadata": {},
   "source": [
    "# **Computational Methods**\n",
    "## **COMPLEX NUMBERS**\n",
    "\n",
    "Written by Niv Keren, nivkeren1@mail.tau.ac.il \n",
    "\n",
    "*Computational Methods* class: 0341-2300\n",
    "\n",
    "2020/Semester I; Tuesdays 14:00-16:00\n",
    "\n",
    "FACULTY OF EXACT SCIENCES | GEOPHYSICS & PLANETARY SCIENCES  \n",
    "Tel Aviv University\n",
    "\n",
    "---\n",
    "Python allows a very convenient treatment of complex numbers  \n",
    "\n",
    "Unless defined otherwise, *'i'* is the *'i'* we all know from complex\n",
    "number notation - square root of -1."
   ]
  },
  {
   "cell_type": "code",
   "execution_count": 1,
   "metadata": {},
   "outputs": [],
   "source": [
    "import numpy as np"
   ]
  },
  {
   "cell_type": "code",
   "execution_count": 6,
   "metadata": {},
   "outputs": [
    {
     "data": {
      "text/plain": [
       "(6.123233995736766e-17+1j)"
      ]
     },
     "execution_count": 6,
     "metadata": {},
     "output_type": "execute_result"
    }
   ],
   "source": [
    "(-1) ** 0.5"
   ]
  },
  {
   "cell_type": "markdown",
   "metadata": {},
   "source": [
    "Here you can also see the default way in which Python prints complex numbers  \n",
    "This is also one way we can write complex numbers and input  \n",
    "them to Python. Note the absence of any multiplication sign  \n",
    "between the number and *j*."
   ]
  },
  {
   "cell_type": "code",
   "execution_count": 11,
   "metadata": {},
   "outputs": [
    {
     "data": {
      "text/plain": [
       "(1-2j)"
      ]
     },
     "execution_count": 11,
     "metadata": {},
     "output_type": "execute_result"
    }
   ],
   "source": [
    "c1 = 1-2j\n",
    "c1"
   ]
  },
  {
   "cell_type": "markdown",
   "metadata": {},
   "source": [
    "Another way to construct a complex number is using the\n",
    "built-in function 'complex'."
   ]
  },
  {
   "cell_type": "code",
   "execution_count": 12,
   "metadata": {},
   "outputs": [
    {
     "data": {
      "text/plain": [
       "(1-2j)"
      ]
     },
     "execution_count": 12,
     "metadata": {},
     "output_type": "execute_result"
    }
   ],
   "source": [
    "c1 = complex(1,-2)\n",
    "c1"
   ]
  },
  {
   "cell_type": "markdown",
   "metadata": {},
   "source": [
    "All the arithmetic operations are defined on the  \n",
    "complex numbers as we expect them to be."
   ]
  },
  {
   "cell_type": "code",
   "execution_count": 18,
   "metadata": {},
   "outputs": [
    {
     "name": "stdout",
     "output_type": "stream",
     "text": [
      "(6-9j)\n",
      "(8.659560562354934e-17+1.4142135623730951j)\n",
      "(-7.7781745930520225-4.949747468305833j)\n"
     ]
    }
   ],
   "source": [
    "c2 = 3 * ( 2 - 3j)\n",
    "print(c2)\n",
    "\n",
    "c3 = (-2) ** 0.5\n",
    "print(c3)\n",
    "\n",
    "c4 = (c1 + c2) / c3\n",
    "print(c4)"
   ]
  },
  {
   "cell_type": "markdown",
   "metadata": {},
   "source": [
    "the functions `np.real()` and `np.imag()` extract the real and the imaginary part of the complex number"
   ]
  },
  {
   "cell_type": "code",
   "execution_count": 24,
   "metadata": {},
   "outputs": [
    {
     "name": "stdout",
     "output_type": "stream",
     "text": [
      "-7.7781745930520225 -4.949747468305833\n"
     ]
    }
   ],
   "source": [
    "c4r = np.real(c4)\n",
    "\n",
    "c4i = np.imag(c4)\n",
    "\n",
    "print(c4r, c4i)"
   ]
  },
  {
   "cell_type": "markdown",
   "metadata": {},
   "source": [
    "For polar (Euler) representation of complex numbers we\n",
    "need the absolute value and the phase.\n",
    "\n",
    "The absolute value is obtained with the function `np.abs()`."
   ]
  },
  {
   "cell_type": "code",
   "execution_count": 25,
   "metadata": {},
   "outputs": [
    {
     "data": {
      "text/plain": [
       "9.219544457292887"
      ]
     },
     "execution_count": 25,
     "metadata": {},
     "output_type": "execute_result"
    }
   ],
   "source": [
    "np.abs(c4)"
   ]
  },
  {
   "cell_type": "markdown",
   "metadata": {},
   "source": [
    "The phase is obtained with the function `np.angle()`.\n",
    "The phase is in radians betwee -pi and pi."
   ]
  },
  {
   "cell_type": "code",
   "execution_count": 26,
   "metadata": {},
   "outputs": [
    {
     "data": {
      "text/plain": [
       "-2.5748634360662868"
      ]
     },
     "execution_count": 26,
     "metadata": {},
     "output_type": "execute_result"
    }
   ],
   "source": [
    "np.angle(c4)"
   ]
  },
  {
   "cell_type": "markdown",
   "metadata": {},
   "source": [
    "The number can be easily reconstructed from the\n",
    "absolute value and the phase."
   ]
  },
  {
   "cell_type": "code",
   "execution_count": 31,
   "metadata": {},
   "outputs": [
    {
     "data": {
      "text/plain": [
       "(1.0000000000000002-2j)"
      ]
     },
     "execution_count": 31,
     "metadata": {},
     "output_type": "execute_result"
    }
   ],
   "source": [
    "r = np.abs(c1)\n",
    "phi = np.angle(c1)\n",
    "\n",
    "r * np.exp(phi* 1j)"
   ]
  },
  {
   "cell_type": "markdown",
   "metadata": {},
   "source": [
    "We can also use the built-in function `np.conj()` to get the complex conjugate ('tzamud')."
   ]
  },
  {
   "cell_type": "code",
   "execution_count": 34,
   "metadata": {},
   "outputs": [
    {
     "name": "stdout",
     "output_type": "stream",
     "text": [
      "(1-2j)\n",
      "(1+2j)\n"
     ]
    }
   ],
   "source": [
    "print(c1)\n",
    "c1_conj = np.conj(c1)\n",
    "print(c1_conj)"
   ]
  },
  {
   "cell_type": "markdown",
   "metadata": {},
   "source": [
    "## **POLYNOMIALS**\n",
    "--------------------\n",
    "Python has some neat built-in functions to perform operations on polynomials.\n",
    "\n",
    "\n",
    "Matlab represents a polynomial simply as 1D numpy ndarray.  \n",
    "The first element hold the coefficient of the highest power, and the last holds the coefficient of the zeroth power.\n",
    "\n",
    "This polynomial  \n",
    "*x^4 - 12*x^3 + 25*x + 116*"
   ]
  },
  {
   "cell_type": "code",
   "execution_count": 36,
   "metadata": {},
   "outputs": [
    {
     "data": {
      "text/plain": [
       "array([  1, -12,   0,  25, 116])"
      ]
     },
     "execution_count": 36,
     "metadata": {},
     "output_type": "execute_result"
    }
   ],
   "source": [
    "p = np.array([1, -12, 0, 25, 116])\n",
    "p"
   ]
  },
  {
   "cell_type": "markdown",
   "metadata": {},
   "source": [
    "The function 'roots' assumes the vector it got as input represents a polynomial, and it returns  \n",
    "a 1D Array with the roots of the polynomial."
   ]
  },
  {
   "cell_type": "code",
   "execution_count": 39,
   "metadata": {},
   "outputs": [
    {
     "data": {
      "text/plain": [
       "array([11.74728287+0.j        ,  2.70282074+0.j        ,\n",
       "       -1.22505181+1.46720801j, -1.22505181-1.46720801j])"
      ]
     },
     "execution_count": 39,
     "metadata": {},
     "output_type": "execute_result"
    }
   ],
   "source": [
    "np.roots(p)"
   ]
  },
  {
   "cell_type": "markdown",
   "metadata": {},
   "source": [
    "Operations defined between polynomials"
   ]
  },
  {
   "cell_type": "code",
   "execution_count": 40,
   "metadata": {},
   "outputs": [],
   "source": [
    "a = np.array([1, 2, 3, 4])\n",
    "b = np.array([1, 4, 9, 16])"
   ]
  },
  {
   "cell_type": "markdown",
   "metadata": {},
   "source": [
    "Addition is very simply an element-by-element addition."
   ]
  },
  {
   "cell_type": "code",
   "execution_count": 41,
   "metadata": {},
   "outputs": [
    {
     "data": {
      "text/plain": [
       "array([ 2,  6, 12, 20])"
      ]
     },
     "execution_count": 41,
     "metadata": {},
     "output_type": "execute_result"
    }
   ],
   "source": [
    "a + b"
   ]
  },
  {
   "cell_type": "markdown",
   "metadata": {},
   "source": [
    "Multiplication is equivalent to 'convolution', so the function 'conv' is used to perform it."
   ]
  },
  {
   "cell_type": "code",
   "execution_count": 43,
   "metadata": {},
   "outputs": [
    {
     "data": {
      "text/plain": [
       "array([ 1,  6, 20, 50, 75, 84, 64])"
      ]
     },
     "execution_count": 43,
     "metadata": {},
     "output_type": "execute_result"
    }
   ],
   "source": [
    "np.convolve(a, b)"
   ]
  },
  {
   "cell_type": "markdown",
   "metadata": {},
   "source": [
    "Python can also calculate derivatives and integrals of polynomials.\n",
    "**Derivative**\n",
    "\n",
    "c = conv(a,b);\n",
    "polyder(c)\n",
    "\n",
    "%\n",
    "% Integral. The additional argument is the integration constant. \n",
    "% If no constant is specified, the default is 0.\n",
    "%\n",
    "\n",
    "polyint(c)\n",
    "polyint(c,28)\n",
    "\n",
    "%\n",
    "% The function 'polyval' evaluates a polynomial\n",
    "% in specified locations.\n",
    "%\n",
    "\n",
    "doc polyval\n",
    "polyval(c,1)\n",
    "polyval(c,-4)\n",
    "polyval(c,[1 5 9])\n",
    "\n",
    "%\n",
    "% For example, let's plot the polynomial \n",
    "% x^3+4*x^2-7*x-10 between x = -1 and x = 3.\n",
    "%\n",
    "\n",
    "p = [1 4 -7 -10];\n",
    "x = linspace(-10,3,1000);\n",
    "v = polyval(p,x);\n",
    "plot (x,v)\n",
    "grid\n",
    "\n",
    "% \n",
    "% Using the plot we can test polynomial roots\n",
    "%\n",
    "\n",
    "roots(p)\n",
    "\n",
    "%\n",
    "% We can also examine where the derivative is zero\n",
    "%\n",
    "\n",
    "roots(polyder(p))\n",
    "\n",
    "%\n",
    "% Matlab also offers a way to fit a polynomial to data.\n",
    "% By 'fit' we mean in the 'least squares' sense,\n",
    "% i.e., the polynomial whose averaged sum of squared distances\n",
    "% from the points is minimal.\n",
    "%\n",
    "\n",
    "x = 0:0.1:1;\n",
    "y = [-.447 1.978 3.28 6.16 7.08 7.34 7.66 9.56 9.48 9.3 11.2];\n",
    "\n",
    "\n",
    "%\n",
    "% We use the function 'scatter' to get a 'scatter plot',\n",
    "% where the points are not connected with lines and\n",
    "% there are only markers in the form of empty circles.\n",
    "% Obviously we can obtain the same plot using 'plot'\n",
    "%\n",
    "\n",
    "scatter (x,y)\n",
    "plot (x,y,'o')\n",
    "\n",
    "%\n",
    "% To fit a polynomial to the data we use the function\n",
    "% 'polyfit'.  Besides the input x and y data, we also have\n",
    "% to specify the degree of the polynomial we wish to fit.\n",
    "%\n",
    "\n",
    "doc polyfit\n",
    "polyfit(x,y,1)\n",
    "polyfit(x,y,2)\n",
    "\n",
    "%\n",
    "% We'll plot the polynomial we fitted on the scatter\n",
    "% plot.\n",
    "%\n",
    "\n",
    "xx = linspace(0,1,100);\n",
    "hold\n",
    "\n",
    "p1 = polyfit(x,y,1);\n",
    "p2 = polyfit(x,y,2);\n",
    "plot (xx,polyval(p1,xx),'k')\n",
    "plot (xx,polyval(p2,xx),'r')\n",
    "\n",
    "\n",
    "%\n",
    "% Reminder: we started class with an explanation about\n",
    "% Least-square fitting. The following website gives\n",
    "% another introduction to the topic:\n",
    "% http://mathworld.wolfram.com/LeastSquaresFitting.html\n",
    "%"
   ]
  },
  {
   "cell_type": "code",
   "execution_count": null,
   "metadata": {},
   "outputs": [],
   "source": []
  }
 ],
 "metadata": {
  "kernelspec": {
   "display_name": "Python 3",
   "language": "python",
   "name": "python3"
  },
  "language_info": {
   "codemirror_mode": {
    "name": "ipython",
    "version": 3
   },
   "file_extension": ".py",
   "mimetype": "text/x-python",
   "name": "python",
   "nbconvert_exporter": "python",
   "pygments_lexer": "ipython3",
   "version": "3.7.3"
  }
 },
 "nbformat": 4,
 "nbformat_minor": 4
}
