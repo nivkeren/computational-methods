{
 "cells": [
  {
   "cell_type": "markdown",
   "metadata": {},
   "source": [
    "# **Computational Methods**\n",
    "## **COMPLEX NUMBERS**\n",
    "\n",
    "Written by Niv Keren, nivkeren1@mail.tau.ac.il \n",
    "\n",
    "*Computational Methods* class: 0341-2300\n",
    "\n",
    "2020/Semester I; Tuesdays 14:00-16:00\n",
    "\n",
    "FACULTY OF EXACT SCIENCES | GEOPHYSICS & PLANETARY SCIENCES  \n",
    "Tel Aviv University\n",
    "\n",
    "---\n",
    "Python allows a very convenient treatment of complex numbers  \n",
    "\n",
    "Unless defined otherwise, *'i'* is the *'i'* we all know from complex\n",
    "number notation - square root of -1."
   ]
  },
  {
   "cell_type": "code",
   "execution_count": 4,
   "metadata": {},
   "outputs": [],
   "source": [
    "import numpy as np\n",
    "import matplotlib.pyplot as plt\n",
    "plt.rcParams['figure.figsize'] = [15, 6.67]"
   ]
  },
  {
   "cell_type": "code",
   "execution_count": 5,
   "metadata": {},
   "outputs": [
    {
     "data": {
      "text/plain": [
       "(6.123233995736766e-17+1j)"
      ]
     },
     "execution_count": 5,
     "metadata": {},
     "output_type": "execute_result"
    }
   ],
   "source": [
    "(-1) ** 0.5"
   ]
  },
  {
   "cell_type": "markdown",
   "metadata": {},
   "source": [
    "Here you can also see the default way in which Python prints complex numbers  \n",
    "This is also one way we can write complex numbers and input  \n",
    "them to Python. Note the absence of any multiplication sign  \n",
    "between the number and *j*."
   ]
  },
  {
   "cell_type": "code",
   "execution_count": 6,
   "metadata": {},
   "outputs": [
    {
     "data": {
      "text/plain": [
       "(1-2j)"
      ]
     },
     "execution_count": 6,
     "metadata": {},
     "output_type": "execute_result"
    }
   ],
   "source": [
    "c1 = 1-2j\n",
    "c1"
   ]
  },
  {
   "cell_type": "markdown",
   "metadata": {},
   "source": [
    "Another way to construct a complex number is using the\n",
    "built-in function 'complex'."
   ]
  },
  {
   "cell_type": "code",
   "execution_count": 7,
   "metadata": {},
   "outputs": [
    {
     "data": {
      "text/plain": [
       "(1-2j)"
      ]
     },
     "execution_count": 7,
     "metadata": {},
     "output_type": "execute_result"
    }
   ],
   "source": [
    "c1 = complex(1,-2)\n",
    "c1"
   ]
  },
  {
   "cell_type": "markdown",
   "metadata": {},
   "source": [
    "All the arithmetic operations are defined on the  \n",
    "complex numbers as we expect them to be."
   ]
  },
  {
   "cell_type": "code",
   "execution_count": 8,
   "metadata": {},
   "outputs": [
    {
     "name": "stdout",
     "output_type": "stream",
     "text": [
      "(6-9j)\n",
      "(8.659560562354934e-17+1.4142135623730951j)\n",
      "(-7.7781745930520225-4.949747468305833j)\n"
     ]
    }
   ],
   "source": [
    "c2 = 3 * ( 2 - 3j)\n",
    "print(c2)\n",
    "\n",
    "c3 = (-2) ** 0.5\n",
    "print(c3)\n",
    "\n",
    "c4 = (c1 + c2) / c3\n",
    "print(c4)"
   ]
  },
  {
   "cell_type": "markdown",
   "metadata": {},
   "source": [
    "the functions `np.real()` and `np.imag()` extract the real and the imaginary part of the complex number"
   ]
  },
  {
   "cell_type": "code",
   "execution_count": 9,
   "metadata": {},
   "outputs": [
    {
     "name": "stdout",
     "output_type": "stream",
     "text": [
      "-7.7781745930520225 -4.949747468305833\n"
     ]
    }
   ],
   "source": [
    "c4r = np.real(c4)\n",
    "\n",
    "c4i = np.imag(c4)\n",
    "\n",
    "print(c4r, c4i)"
   ]
  },
  {
   "cell_type": "markdown",
   "metadata": {},
   "source": [
    "For polar (Euler) representation of complex numbers we\n",
    "need the absolute value and the phase.\n",
    "\n",
    "The absolute value is obtained with the function `np.abs()`."
   ]
  },
  {
   "cell_type": "code",
   "execution_count": 10,
   "metadata": {},
   "outputs": [
    {
     "data": {
      "text/plain": [
       "9.219544457292887"
      ]
     },
     "execution_count": 10,
     "metadata": {},
     "output_type": "execute_result"
    }
   ],
   "source": [
    "np.abs(c4)"
   ]
  },
  {
   "cell_type": "markdown",
   "metadata": {},
   "source": [
    "The phase is obtained with the function `np.angle()`.\n",
    "The phase is in radians betwee -pi and pi."
   ]
  },
  {
   "cell_type": "code",
   "execution_count": 11,
   "metadata": {},
   "outputs": [
    {
     "data": {
      "text/plain": [
       "-2.5748634360662868"
      ]
     },
     "execution_count": 11,
     "metadata": {},
     "output_type": "execute_result"
    }
   ],
   "source": [
    "np.angle(c4)"
   ]
  },
  {
   "cell_type": "markdown",
   "metadata": {},
   "source": [
    "The number can be easily reconstructed from the\n",
    "absolute value and the phase."
   ]
  },
  {
   "cell_type": "code",
   "execution_count": 12,
   "metadata": {},
   "outputs": [
    {
     "data": {
      "text/plain": [
       "(1.0000000000000002-2j)"
      ]
     },
     "execution_count": 12,
     "metadata": {},
     "output_type": "execute_result"
    }
   ],
   "source": [
    "r = np.abs(c1)\n",
    "phi = np.angle(c1)\n",
    "\n",
    "r * np.exp(phi* 1j)"
   ]
  },
  {
   "cell_type": "markdown",
   "metadata": {},
   "source": [
    "We can also use the built-in function `np.conj()` to get the complex conjugate ('tzamud')."
   ]
  },
  {
   "cell_type": "code",
   "execution_count": 13,
   "metadata": {},
   "outputs": [
    {
     "name": "stdout",
     "output_type": "stream",
     "text": [
      "(1-2j)\n",
      "(1+2j)\n"
     ]
    }
   ],
   "source": [
    "print(c1)\n",
    "c1_conj = np.conj(c1)\n",
    "print(c1_conj)"
   ]
  },
  {
   "cell_type": "markdown",
   "metadata": {},
   "source": [
    "## **POLYNOMIALS**\n",
    "--------------------\n",
    "Python has some neat built-in functions to perform operations on polynomials.\n",
    "\n",
    "\n",
    "Python represents a polynomial as numpy `poly1d` class. [Documentation](https://docs.scipy.org/doc/numpy/reference/generated/numpy.poly1d.html)  \n",
    "The first element hold the coefficient of the highest power, and the last holds the coefficient of the zeroth power.\n",
    "\n",
    "This polynomial  \n",
    "**_x^4 - 12*x^3 + 25*x + 116_**"
   ]
  },
  {
   "cell_type": "code",
   "execution_count": 14,
   "metadata": {},
   "outputs": [
    {
     "name": "stdout",
     "output_type": "stream",
     "text": [
      "   4      3\n",
      "1 x - 12 x + 25 x + 116\n"
     ]
    }
   ],
   "source": [
    "p = np.poly1d([1, -12, 0, 25, 116])\n",
    "print(p)"
   ]
  },
  {
   "cell_type": "markdown",
   "metadata": {},
   "source": [
    "ploy1d contains many attributes (see documentation).  \n",
    "one of them is 'roots' or 'r' a 1D Array with the roots of the polynomial."
   ]
  },
  {
   "cell_type": "code",
   "execution_count": 15,
   "metadata": {},
   "outputs": [
    {
     "data": {
      "text/plain": [
       "array([11.74728287+0.j        ,  2.70282074+0.j        ,\n",
       "       -1.22505181+1.46720801j, -1.22505181-1.46720801j])"
      ]
     },
     "execution_count": 15,
     "metadata": {},
     "output_type": "execute_result"
    }
   ],
   "source": [
    "p.roots"
   ]
  },
  {
   "cell_type": "markdown",
   "metadata": {},
   "source": [
    "Operations defined between polynomials"
   ]
  },
  {
   "cell_type": "code",
   "execution_count": 16,
   "metadata": {},
   "outputs": [],
   "source": [
    "a = np.poly1d([1, 2, 3, 4])\n",
    "b = np.poly1d([1, 4, 9, 16])"
   ]
  },
  {
   "cell_type": "markdown",
   "metadata": {},
   "source": [
    "Addition is very simply an element-by-element addition."
   ]
  },
  {
   "cell_type": "code",
   "execution_count": 17,
   "metadata": {},
   "outputs": [
    {
     "data": {
      "text/plain": [
       "poly1d([ 2,  6, 12, 20])"
      ]
     },
     "execution_count": 17,
     "metadata": {},
     "output_type": "execute_result"
    }
   ],
   "source": [
    "a + b"
   ]
  },
  {
   "cell_type": "markdown",
   "metadata": {},
   "source": [
    "Multiplication is equivalent to convolution, so the function `convolve` is used to perform it.  \n",
    "the function returns an array not poly1d"
   ]
  },
  {
   "cell_type": "code",
   "execution_count": 18,
   "metadata": {},
   "outputs": [
    {
     "data": {
      "text/plain": [
       "array([ 1,  6, 20, 50, 75, 84, 64])"
      ]
     },
     "execution_count": 18,
     "metadata": {},
     "output_type": "execute_result"
    }
   ],
   "source": [
    "np.convolve(a, b)"
   ]
  },
  {
   "cell_type": "markdown",
   "metadata": {},
   "source": [
    "Python can also calculate derivatives and integrals of polynomials.  \n",
    "**Derivative**"
   ]
  },
  {
   "cell_type": "code",
   "execution_count": 19,
   "metadata": {},
   "outputs": [
    {
     "data": {
      "text/plain": [
       "poly1d([  6,  30,  80, 150, 150,  84])"
      ]
     },
     "execution_count": 19,
     "metadata": {},
     "output_type": "execute_result"
    }
   ],
   "source": [
    "c = np.poly1d(np.convolve(a, b))\n",
    "d = np.polyder(c)\n",
    "d"
   ]
  },
  {
   "cell_type": "code",
   "execution_count": 20,
   "metadata": {},
   "outputs": [
    {
     "name": "stdout",
     "output_type": "stream",
     "text": [
      "2nd derivetive of c\n",
      "    4       3       2\n",
      "30 x + 120 x + 240 x + 300 x + 150\n",
      "1st derivetive of d\n",
      "    4       3       2\n",
      "30 x + 120 x + 240 x + 300 x + 150\n"
     ]
    }
   ],
   "source": [
    "print(\"2nd derivetive of c\")\n",
    "print(np.polyder(c, 2))\n",
    "print(\"1st derivetive of d\")\n",
    "print(np.polyder(d))"
   ]
  },
  {
   "cell_type": "markdown",
   "metadata": {},
   "source": [
    "**Integral**  \n",
    "The additional argument is the integration constant.\n",
    "If no constant is specified, the default is 0."
   ]
  },
  {
   "cell_type": "code",
   "execution_count": 21,
   "metadata": {},
   "outputs": [
    {
     "name": "stdout",
     "output_type": "stream",
     "text": [
      "   6     5      4      3      2\n",
      "1 x + 6 x + 20 x + 50 x + 75 x + 84 x\n",
      "   6     5      4      3      2\n",
      "1 x + 6 x + 20 x + 50 x + 75 x + 84 x + 64\n"
     ]
    }
   ],
   "source": [
    "print(np.polyint(d))\n",
    "print(np.polyint(d,k=64))"
   ]
  },
  {
   "cell_type": "markdown",
   "metadata": {},
   "source": [
    "The function `polyval` evaluates a polynomial\n",
    "in specified locations."
   ]
  },
  {
   "cell_type": "code",
   "execution_count": 22,
   "metadata": {},
   "outputs": [
    {
     "name": "stdout",
     "output_type": "stream",
     "text": [
      "300\n",
      "800\n"
     ]
    },
    {
     "data": {
      "text/plain": [
       "array([    300,   55484, 1060300])"
      ]
     },
     "execution_count": 22,
     "metadata": {},
     "output_type": "execute_result"
    }
   ],
   "source": [
    "print(np.polyval(c ,1))\n",
    "print(np.polyval(c, -4))\n",
    "np.polyval(c, np.array([1, 5, 9]))"
   ]
  },
  {
   "cell_type": "markdown",
   "metadata": {},
   "source": [
    "For example, let's plot the polynomial  \n",
    "**_x^3+4*x^2-7*x-10_**  \n",
    "between *x = -1* and *x = 3*."
   ]
  },
  {
   "cell_type": "code",
   "execution_count": 23,
   "metadata": {},
   "outputs": [
    {
     "data": {
      "image/png": "[encoded data removed]",
      "text/plain": [
       "<Figure size 1080x480.24 with 1 Axes>"
      ]
     },
     "metadata": {
      "needs_background": "light"
     },
     "output_type": "display_data"
    }
   ],
   "source": [
    "p = np.poly1d([1, 4, -7, -10])\n",
    "x = np.linspace(-1 ,3 ,1000)\n",
    "v = np.polyval(p, x)\n",
    "plt.plot(x, v)\n",
    "plt.grid()\n",
    "plt.show()"
   ]
  },
  {
   "cell_type": "markdown",
   "metadata": {},
   "source": [
    "Using the plot we can test polynomial roots"
   ]
  },
  {
   "cell_type": "code",
   "execution_count": 24,
   "metadata": {},
   "outputs": [
    {
     "data": {
      "text/plain": [
       "array([-5.,  2., -1.])"
      ]
     },
     "execution_count": 24,
     "metadata": {},
     "output_type": "execute_result"
    }
   ],
   "source": [
    "p.roots"
   ]
  },
  {
   "cell_type": "markdown",
   "metadata": {},
   "source": [
    "We can also examine where the derivative is zero"
   ]
  },
  {
   "cell_type": "code",
   "execution_count": 25,
   "metadata": {},
   "outputs": [
    {
     "data": {
      "text/plain": [
       "array([-3.36092084,  0.69425418])"
      ]
     },
     "execution_count": 25,
     "metadata": {},
     "output_type": "execute_result"
    }
   ],
   "source": [
    "p.deriv().roots"
   ]
  },
  {
   "cell_type": "markdown",
   "metadata": {},
   "source": [
    "Numpy also offers a way to fit a polynomial to data.  \n",
    "By `fit` we mean in the least squares sense,  \n",
    "i.e., the polynomial whose averaged sum of squared distances\n",
    "from the points is minimal."
   ]
  },
  {
   "cell_type": "code",
   "execution_count": 26,
   "metadata": {},
   "outputs": [],
   "source": [
    "x = np.arange(0, 1.1, 0.1)\n",
    "y = np.array([-.447, 1.978, 3.28, 6.16, 7.08, 7.34, 7.66, 9.56, 9.48, 9.3, 11.2])"
   ]
  },
  {
   "cell_type": "markdown",
   "metadata": {},
   "source": [
    "We use the function `scatter` to get a scatter plot,  \n",
    "where the points are not connected with lines and there are only markers in the form of empty circles.  \n",
    "Obviously we can obtain the same plot using `plot`"
   ]
  },
  {
   "cell_type": "code",
   "execution_count": 27,
   "metadata": {},
   "outputs": [
    {
     "data": {
      "image/png": "[encoded data removed]",
      "text/plain": [
       "<Figure size 1080x480.24 with 1 Axes>"
      ]
     },
     "metadata": {
      "needs_background": "light"
     },
     "output_type": "display_data"
    }
   ],
   "source": [
    "plt.scatter(x, y, marker='o', facecolors='none', edgecolors='k')\n",
    "plt.show()"
   ]
  },
  {
   "cell_type": "markdown",
   "metadata": {},
   "source": [
    "To fit a polynomial to the data we use the function `np.polyfit` .  \n",
    "Besides the input x and y data, we also have to specify the degree of the polynomial we wish to fit."
   ]
  },
  {
   "cell_type": "code",
   "execution_count": 28,
   "metadata": {},
   "outputs": [
    {
     "name": "stdout",
     "output_type": "stream",
     "text": [
      "p1 =  \n",
      "10.32 x + 1.44\n",
      "p2 =         2\n",
      "-9.811 x + 20.13 x - 0.03167\n",
      "p10 =             10             9             8             7             6\n",
      "-4.644e+05 x  + 2.296e+06 x - 4.877e+06 x + 5.823e+06 x - 4.295e+06 x\n",
      "              5             4            3             2\n",
      " + 2.021e+06 x - 6.032e+05 x + 1.09e+05 x - 1.063e+04 x + 436 x - 0.447\n"
     ]
    }
   ],
   "source": [
    "p1 = np.poly1d(np.polyfit(x, y, 1))\n",
    "p2 = np.poly1d(np.polyfit(x, y, 2))\n",
    "p10 = np.poly1d(np.polyfit(x, y, 10))\n",
    "\n",
    "print(f\"p1 = {p1}\")\n",
    "print(f\"p2 = {p2}\")\n",
    "print(f\"p10 = {p10}\")"
   ]
  },
  {
   "cell_type": "markdown",
   "metadata": {},
   "source": [
    "We'll plot the polynomial we fitted on the scatter"
   ]
  },
  {
   "cell_type": "code",
   "execution_count": 29,
   "metadata": {},
   "outputs": [
    {
     "data": {
      "image/png": "[encoded data removed]",
      "text/plain": [
       "<Figure size 1080x480.24 with 1 Axes>"
      ]
     },
     "metadata": {
      "needs_background": "light"
     },
     "output_type": "display_data"
    }
   ],
   "source": [
    "xx = np.linspace(0,1,1000);\n",
    "\n",
    "plt.scatter(x, y, marker='o', facecolors='none', edgecolors='k')\n",
    "plt.plot(xx, np.polyval(p1, xx), label=\"p1\")\n",
    "plt.plot(xx, np.polyval(p2, xx), label=\"p2\")\n",
    "plt.plot(xx, np.polyval(p10, xx), label=\"p10\")\n",
    "plt.legend()\n",
    "plt.show()"
   ]
  },
  {
   "cell_type": "markdown",
   "metadata": {},
   "source": [
    "Reminder: we started class with an explanation about Least-square fitting.  \n",
    "The following website gives another introduction to the topic:\n",
    "http://mathworld.wolfram.com/LeastSquaresFitting.html"
   ]
  }
 ],
 "metadata": {
  "kernelspec": {
   "display_name": "Python 3",
   "language": "python",
   "name": "python3"
  },
  "language_info": {
   "codemirror_mode": {
    "name": "ipython",
    "version": 3
   },
   "file_extension": ".py",
   "mimetype": "text/x-python",
   "name": "python",
   "nbconvert_exporter": "python",
   "pygments_lexer": "ipython3",
   "version": "3.7.3"
  }
 },
 "nbformat": 4,
 "nbformat_minor": 4
}
