{
 "cells": [
  {
   "cell_type": "markdown",
   "metadata": {},
   "source": [
    "# **Computational Methods**\n",
    "## **DataSets & Classification**\n",
    "\n",
    "Written by Niv Keren, nivkeren1@mail.tau.ac.il \n",
    "\n",
    "Based on [SciPy Optimization Tutorial](https://docs.scipy.org/doc/scipy/reference/tutorial/optimize.html#global-optimization),\n",
    "\n",
    "*Computational Methods* class: 0341-2300\n",
    "\n",
    "2020/Semester I; Tuesdays 14:00-16:00\n",
    "\n",
    "FACULTY OF EXACT SCIENCES | GEOPHYSICS & PLANETARY SCIENCES  \n",
    "Tel Aviv University\n",
    "\n",
    "---\n",
    "## **[Seaborn](https://seaborn.pydata.org/):** statistical data visualization\n",
    "Seaborn is a Python data visualization library based on matplotlib.  \n",
    "It provides a high-level interface for drawing attractive and informative statistical graphics.  \n",
    "You might need to [install the library](https://seaborn.pydata.org/installing.html).\n",
    "\n",
    "---\n",
    "On the first part of class we are going to look look at **Historical Hourly Weather Data 2012-2017 of San Fransisco.** The data is taken [from kaggle](https://www.kaggle.com/selfishgene/historical-hourly-weather-data/data)"
   ]
  },
  {
   "cell_type": "code",
   "execution_count": 25,
   "metadata": {},
   "outputs": [],
   "source": [
    "import numpy as np\n",
    "import pandas as pd\n",
    "import matplotlib.pyplot as plt\n",
    "import seaborn as sns\n",
    "plt.rcParams['figure.figsize'] = [15, 6.67]"
   ]
  },
  {
   "cell_type": "code",
   "execution_count": 6,
   "metadata": {},
   "outputs": [
    {
     "data": {
      "text/html": [
       "<div>\n",
       "<style scoped>\n",
       "    .dataframe tbody tr th:only-of-type {\n",
       "        vertical-align: middle;\n",
       "    }\n",
       "\n",
       "    .dataframe tbody tr th {\n",
       "        vertical-align: top;\n",
       "    }\n",
       "\n",
       "    .dataframe thead th {\n",
       "        text-align: right;\n",
       "    }\n",
       "</style>\n",
       "<table border=\"1\" class=\"dataframe\">\n",
       "  <thead>\n",
       "    <tr style=\"text-align: right;\">\n",
       "      <th></th>\n",
       "      <th>datetime</th>\n",
       "      <th>humidity</th>\n",
       "      <th>pressure</th>\n",
       "      <th>temperature</th>\n",
       "      <th>wind_direction</th>\n",
       "      <th>wind speed</th>\n",
       "      <th>description</th>\n",
       "    </tr>\n",
       "  </thead>\n",
       "  <tbody>\n",
       "    <tr>\n",
       "      <td>0</td>\n",
       "      <td>2012-10-01 12:00:00</td>\n",
       "      <td>NaN</td>\n",
       "      <td>NaN</td>\n",
       "      <td>NaN</td>\n",
       "      <td>NaN</td>\n",
       "      <td>NaN</td>\n",
       "      <td>NaN</td>\n",
       "    </tr>\n",
       "    <tr>\n",
       "      <td>1</td>\n",
       "      <td>2012-10-01 13:00:00</td>\n",
       "      <td>88.0</td>\n",
       "      <td>1009.0</td>\n",
       "      <td>289.480000</td>\n",
       "      <td>150.0</td>\n",
       "      <td>2.0</td>\n",
       "      <td>light rain</td>\n",
       "    </tr>\n",
       "    <tr>\n",
       "      <td>2</td>\n",
       "      <td>2012-10-01 14:00:00</td>\n",
       "      <td>87.0</td>\n",
       "      <td>1009.0</td>\n",
       "      <td>289.474993</td>\n",
       "      <td>147.0</td>\n",
       "      <td>2.0</td>\n",
       "      <td>sky is clear</td>\n",
       "    </tr>\n",
       "    <tr>\n",
       "      <td>3</td>\n",
       "      <td>2012-10-01 15:00:00</td>\n",
       "      <td>86.0</td>\n",
       "      <td>1009.0</td>\n",
       "      <td>289.460618</td>\n",
       "      <td>141.0</td>\n",
       "      <td>2.0</td>\n",
       "      <td>sky is clear</td>\n",
       "    </tr>\n",
       "    <tr>\n",
       "      <td>4</td>\n",
       "      <td>2012-10-01 16:00:00</td>\n",
       "      <td>85.0</td>\n",
       "      <td>1009.0</td>\n",
       "      <td>289.446243</td>\n",
       "      <td>135.0</td>\n",
       "      <td>2.0</td>\n",
       "      <td>sky is clear</td>\n",
       "    </tr>\n",
       "    <tr>\n",
       "      <td>...</td>\n",
       "      <td>...</td>\n",
       "      <td>...</td>\n",
       "      <td>...</td>\n",
       "      <td>...</td>\n",
       "      <td>...</td>\n",
       "      <td>...</td>\n",
       "      <td>...</td>\n",
       "    </tr>\n",
       "    <tr>\n",
       "      <td>45248</td>\n",
       "      <td>2017-11-29 20:00:00</td>\n",
       "      <td>NaN</td>\n",
       "      <td>NaN</td>\n",
       "      <td>NaN</td>\n",
       "      <td>NaN</td>\n",
       "      <td>NaN</td>\n",
       "      <td>NaN</td>\n",
       "    </tr>\n",
       "    <tr>\n",
       "      <td>45249</td>\n",
       "      <td>2017-11-29 21:00:00</td>\n",
       "      <td>NaN</td>\n",
       "      <td>NaN</td>\n",
       "      <td>NaN</td>\n",
       "      <td>NaN</td>\n",
       "      <td>NaN</td>\n",
       "      <td>NaN</td>\n",
       "    </tr>\n",
       "    <tr>\n",
       "      <td>45250</td>\n",
       "      <td>2017-11-29 22:00:00</td>\n",
       "      <td>NaN</td>\n",
       "      <td>NaN</td>\n",
       "      <td>NaN</td>\n",
       "      <td>NaN</td>\n",
       "      <td>NaN</td>\n",
       "      <td>NaN</td>\n",
       "    </tr>\n",
       "    <tr>\n",
       "      <td>45251</td>\n",
       "      <td>2017-11-29 23:00:00</td>\n",
       "      <td>NaN</td>\n",
       "      <td>NaN</td>\n",
       "      <td>NaN</td>\n",
       "      <td>NaN</td>\n",
       "      <td>NaN</td>\n",
       "      <td>NaN</td>\n",
       "    </tr>\n",
       "    <tr>\n",
       "      <td>45252</td>\n",
       "      <td>2017-11-30 00:00:00</td>\n",
       "      <td>NaN</td>\n",
       "      <td>NaN</td>\n",
       "      <td>NaN</td>\n",
       "      <td>NaN</td>\n",
       "      <td>NaN</td>\n",
       "      <td>NaN</td>\n",
       "    </tr>\n",
       "  </tbody>\n",
       "</table>\n",
       "<p>45253 rows × 7 columns</p>\n",
       "</div>"
      ],
      "text/plain": [
       "                  datetime  humidity  pressure  temperature  wind_direction  \\\n",
       "0      2012-10-01 12:00:00       NaN       NaN          NaN             NaN   \n",
       "1      2012-10-01 13:00:00      88.0    1009.0   289.480000           150.0   \n",
       "2      2012-10-01 14:00:00      87.0    1009.0   289.474993           147.0   \n",
       "3      2012-10-01 15:00:00      86.0    1009.0   289.460618           141.0   \n",
       "4      2012-10-01 16:00:00      85.0    1009.0   289.446243           135.0   \n",
       "...                    ...       ...       ...          ...             ...   \n",
       "45248  2017-11-29 20:00:00       NaN       NaN          NaN             NaN   \n",
       "45249  2017-11-29 21:00:00       NaN       NaN          NaN             NaN   \n",
       "45250  2017-11-29 22:00:00       NaN       NaN          NaN             NaN   \n",
       "45251  2017-11-29 23:00:00       NaN       NaN          NaN             NaN   \n",
       "45252  2017-11-30 00:00:00       NaN       NaN          NaN             NaN   \n",
       "\n",
       "       wind speed   description  \n",
       "0             NaN           NaN  \n",
       "1             2.0    light rain  \n",
       "2             2.0  sky is clear  \n",
       "3             2.0  sky is clear  \n",
       "4             2.0  sky is clear  \n",
       "...           ...           ...  \n",
       "45248         NaN           NaN  \n",
       "45249         NaN           NaN  \n",
       "45250         NaN           NaN  \n",
       "45251         NaN           NaN  \n",
       "45252         NaN           NaN  \n",
       "\n",
       "[45253 rows x 7 columns]"
      ]
     },
     "execution_count": 6,
     "metadata": {},
     "output_type": "execute_result"
    }
   ],
   "source": [
    "sf_df = pd.read_csv(\"files/san-fransisco-weather.csv\")\n",
    "sf_df"
   ]
  },
  {
   "cell_type": "markdown",
   "metadata": {},
   "source": [
    "The dataset contains ~5 years of high temporal resolution (hourly measurements) data of various weather attributes.  \n",
    "Five numerical:\n",
    "1. humedity [%]\n",
    "2. pressure [hpa]\n",
    "3. tempreture [K]\n",
    "4. wind direction [deg]\n",
    "5. wind speed [m / s]\n",
    "\n",
    "One text column:\n",
    "1. weateher description\n",
    "\n",
    "and the date and time\n",
    "\n",
    "---\n",
    "\n",
    "### **Feature Exploration, Engineering and Cleaning**\n",
    "Lets dive into the data. First, we can look at each attribute unique values"
   ]
  },
  {
   "cell_type": "code",
   "execution_count": 21,
   "metadata": {},
   "outputs": [
    {
     "name": "stdout",
     "output_type": "stream",
     "text": [
      "datetime\n",
      "['2012-10-01 12:00:00' '2012-10-01 13:00:00' '2012-10-01 14:00:00' ...\n",
      " '2017-11-29 22:00:00' '2017-11-29 23:00:00' '2017-11-30 00:00:00']\n",
      "----------------------------------------------------------------------------------------\n",
      "humidity\n",
      "[ nan  88.  87.  86.  85.  84.  83.  82.  81.  80.  79.  78.  77.  76.\n",
      "  75.  74.  73.  72.  71.  70.  69.  68.  67.  66.  65.  64.  63.  51.\n",
      "  56.  94.  18.  11.  15.  25.  31.  27.  28.  89.  48.  62.  42.  53.\n",
      "  58.  60.  50.  41.  16.  17.  21.  24. 100.  55.  57.  47.  91.  46.\n",
      "  52.  43.  40.  49.  59.  95.  45.  93.  97.  44.  13.  26.  30.  32.\n",
      "  39.  61.  54.  37.  36.  33.  96.  35.  90.  34.  92.  98.  99.  29.\n",
      "  38.  20.  22.  19.  23.   8.  10.   7.   9.  12.  14.   6.]\n",
      "----------------------------------------------------------------------------------------\n",
      "pressure\n",
      "[  nan 1009. 1010. 1011. 1012. 1013. 1014. 1015. 1016. 1001. 1000. 1007.\n",
      " 1008. 1017. 1018. 1019. 1026. 1024. 1023. 1020. 1021. 1022. 1025. 1027.\n",
      " 1028. 1029. 1031. 1030. 1036. 1032. 1033. 1039. 1040. 1041. 1043. 1034.\n",
      " 1006. 1005. 1004. 1002. 1003.  999.  998. 1035.  995.  996.  997. 1037.\n",
      " 1038. 1042. 1044.  985.  993.  992.  994.  991.  990.]\n",
      "----------------------------------------------------------------------------------------\n",
      "temperature\n",
      "[         nan 289.48       289.47499281 ... 292.477      301.4\n",
      " 304.92      ]\n",
      "----------------------------------------------------------------------------------------\n",
      "wind_direction\n",
      "[ nan 150. 147. 141. 135. 129. 123. 117. 110. 104.  98.  92.  86.  80.\n",
      "  73.  67.  61.  55.  49.  43.  36.  30.  24.  18.  12.   6.   0. 190.\n",
      " 140. 230. 170. 250. 260. 300. 280. 270. 290. 210.  20.  10. 160. 180.\n",
      " 310. 320. 165.  50. 105. 220. 360. 240. 120. 100. 350. 340. 186.  93.\n",
      "  70.  90. 200. 130.  31.  62.  94.  91.  60. 247. 215. 255. 295. 257.\n",
      " 254. 251. 248. 222. 224. 226. 228. 253.  40. 266. 252. 238. 225. 211.\n",
      " 197. 183. 182. 194. 206. 218. 231. 243. 267. 265. 262. 274. 286. 299.\n",
      " 125. 330. 245.  19. 212. 284. 306.  41.  56.  78. 294. 302. 324. 347.\n",
      "  48. 106.  63. 126. 124.  27. 342. 136. 167. 154. 142. 161. 173. 181.\n",
      " 205. 275. 279. 303. 327.  21.   7. 269.  88. 305. 185.  38. 166.  28.\n",
      "  33. 232. 204.  69.  65. 112.  42.  72.  77.  17.  39.  34. 101. 149.\n",
      " 202. 307. 309. 314. 315. 318. 152. 213. 195. 308. 311. 285. 293. 148.\n",
      " 156. 174. 329. 172.  95.  99.  84.  75. 122.  64.  45.  85.  15. 115.\n",
      "   5.  35. 145. 235. 196. 298. 283. 321. 113. 304. 301. 289. 313. 322.\n",
      " 325. 158. 221. 111. 317. 355. 155. 291. 223. 242. 246. 139. 229. 237.\n",
      " 109.  89. 234. 184. 138. 282. 287. 281. 276. 273. 268.  96. 143. 297.\n",
      " 353. 338. 249. 296. 343. 359. 179. 175. 263. 335. 209. 119. 258.  66.\n",
      " 208. 191.  79. 256. 128. 176. 259. 219. 127. 203. 137. 207.  74.  26.\n",
      " 217. 239. 236. 241. 198.   8. 216. 199. 134.  11. 272. 356. 288.  37.\n",
      " 316. 227. 264. 233. 312. 187. 261. 333.  23. 214. 157. 159. 271. 292.\n",
      " 164. 193. 107. 323. 277. 346. 278. 328. 339. 244. 345. 169. 177. 319.\n",
      " 201.  83.  68. 162. 192.  76. 188. 163.   9.  32.  13. 133. 178. 326.\n",
      "   1. 348. 151.  57. 189. 131. 171. 146.  22.  81. 332.  58. 352.  71.\n",
      " 108. 336.  54.  29. 334. 102.  82.  97.  51.  44. 351. 103. 331.  59.\n",
      "  47.  52.  53.  14.  25. 144. 341. 349. 354. 344. 168. 114.  46. 357.\n",
      "  87.   4.  16. 118. 132. 337. 116. 153. 121. 358.   3.   2.]\n",
      "----------------------------------------------------------------------------------------\n",
      "wind speed\n",
      "[nan  2.  1.  0.  4.  3.  6.  7.  8.  5.  9. 11. 10. 12. 13. 14. 17. 16.\n",
      " 15. 43. 19. 18.]\n",
      "----------------------------------------------------------------------------------------\n",
      "description\n",
      "[nan 'light rain' 'sky is clear' 'haze' 'scattered clouds'\n",
      " 'overcast clouds' 'broken clouds' 'mist' 'few clouds' 'fog'\n",
      " 'proximity thunderstorm' 'light intensity drizzle' 'moderate rain'\n",
      " 'thunderstorm' 'heavy intensity rain' 'thunderstorm with heavy rain'\n",
      " 'proximity shower rain' 'heavy intensity drizzle' 'heavy snow' 'drizzle'\n",
      " 'thunderstorm with rain' 'thunderstorm with light rain' 'very heavy rain'\n",
      " 'proximity thunderstorm with rain' 'light intensity shower rain' 'smoke'\n",
      " 'shower rain' 'squalls' 'light snow']\n",
      "----------------------------------------------------------------------------------------\n"
     ]
    }
   ],
   "source": [
    "for (col_name, col_data) in sf_df.iteritems():\n",
    "    print(col_name)\n",
    "    print(col_data.unique())\n",
    "    print(\"----------------------------------------------------------------------------------------\")"
   ]
  },
  {
   "cell_type": "markdown",
   "metadata": {},
   "source": [
    "we can get a simple summary description of the numerical columns "
   ]
  },
  {
   "cell_type": "code",
   "execution_count": 19,
   "metadata": {},
   "outputs": [
    {
     "data": {
      "text/html": [
       "<div>\n",
       "<style scoped>\n",
       "    .dataframe tbody tr th:only-of-type {\n",
       "        vertical-align: middle;\n",
       "    }\n",
       "\n",
       "    .dataframe tbody tr th {\n",
       "        vertical-align: top;\n",
       "    }\n",
       "\n",
       "    .dataframe thead th {\n",
       "        text-align: right;\n",
       "    }\n",
       "</style>\n",
       "<table border=\"1\" class=\"dataframe\">\n",
       "  <thead>\n",
       "    <tr style=\"text-align: right;\">\n",
       "      <th></th>\n",
       "      <th>humidity</th>\n",
       "      <th>pressure</th>\n",
       "      <th>temperature</th>\n",
       "      <th>wind_direction</th>\n",
       "      <th>wind speed</th>\n",
       "    </tr>\n",
       "  </thead>\n",
       "  <tbody>\n",
       "    <tr>\n",
       "      <td>count</td>\n",
       "      <td>44311.000000</td>\n",
       "      <td>44429.000000</td>\n",
       "      <td>44457.000000</td>\n",
       "      <td>44453.000000</td>\n",
       "      <td>44458.000000</td>\n",
       "    </tr>\n",
       "    <tr>\n",
       "      <td>mean</td>\n",
       "      <td>76.875042</td>\n",
       "      <td>1018.844133</td>\n",
       "      <td>288.155913</td>\n",
       "      <td>209.314917</td>\n",
       "      <td>2.786765</td>\n",
       "    </tr>\n",
       "    <tr>\n",
       "      <td>std</td>\n",
       "      <td>17.396016</td>\n",
       "      <td>7.334071</td>\n",
       "      <td>5.332913</td>\n",
       "      <td>95.579532</td>\n",
       "      <td>2.283998</td>\n",
       "    </tr>\n",
       "    <tr>\n",
       "      <td>min</td>\n",
       "      <td>6.000000</td>\n",
       "      <td>985.000000</td>\n",
       "      <td>272.300000</td>\n",
       "      <td>0.000000</td>\n",
       "      <td>0.000000</td>\n",
       "    </tr>\n",
       "    <tr>\n",
       "      <td>25%</td>\n",
       "      <td>68.000000</td>\n",
       "      <td>1014.000000</td>\n",
       "      <td>284.670000</td>\n",
       "      <td>160.000000</td>\n",
       "      <td>1.000000</td>\n",
       "    </tr>\n",
       "    <tr>\n",
       "      <td>50%</td>\n",
       "      <td>81.000000</td>\n",
       "      <td>1018.000000</td>\n",
       "      <td>287.610000</td>\n",
       "      <td>232.000000</td>\n",
       "      <td>2.000000</td>\n",
       "    </tr>\n",
       "    <tr>\n",
       "      <td>75%</td>\n",
       "      <td>89.000000</td>\n",
       "      <td>1023.000000</td>\n",
       "      <td>291.014667</td>\n",
       "      <td>280.000000</td>\n",
       "      <td>4.000000</td>\n",
       "    </tr>\n",
       "    <tr>\n",
       "      <td>max</td>\n",
       "      <td>100.000000</td>\n",
       "      <td>1044.000000</td>\n",
       "      <td>313.620000</td>\n",
       "      <td>360.000000</td>\n",
       "      <td>43.000000</td>\n",
       "    </tr>\n",
       "  </tbody>\n",
       "</table>\n",
       "</div>"
      ],
      "text/plain": [
       "           humidity      pressure   temperature  wind_direction    wind speed\n",
       "count  44311.000000  44429.000000  44457.000000    44453.000000  44458.000000\n",
       "mean      76.875042   1018.844133    288.155913      209.314917      2.786765\n",
       "std       17.396016      7.334071      5.332913       95.579532      2.283998\n",
       "min        6.000000    985.000000    272.300000        0.000000      0.000000\n",
       "25%       68.000000   1014.000000    284.670000      160.000000      1.000000\n",
       "50%       81.000000   1018.000000    287.610000      232.000000      2.000000\n",
       "75%       89.000000   1023.000000    291.014667      280.000000      4.000000\n",
       "max      100.000000   1044.000000    313.620000      360.000000     43.000000"
      ]
     },
     "execution_count": 19,
     "metadata": {},
     "output_type": "execute_result"
    }
   ],
   "source": [
    "sf_df.describe()"
   ]
  },
  {
   "cell_type": "markdown",
   "metadata": {},
   "source": [
    "As we can see in the summary and the values not all measurements exists in the dataset.  \n",
    "In some hours all the parameters are missing and other only part of them are missing.\n",
    "First we can delete all the fully missing hours"
   ]
  },
  {
   "cell_type": "code",
   "execution_count": 34,
   "metadata": {},
   "outputs": [
    {
     "name": "stdout",
     "output_type": "stream",
     "text": [
      "removed 793 lines from the dataset\n"
     ]
    }
   ],
   "source": [
    "sf_df_clean = sf_df.dropna(how='all', subset=['humidity', 'pressure', 'temperature', 'wind_direction', 'wind speed'])\n",
    "print(f\"removed {len(sf_df) - len(sf_df_clean)} lines from the dataset\")"
   ]
  },
  {
   "cell_type": "markdown",
   "metadata": {},
   "source": [
    "Next, we can check what are the other miisig values"
   ]
  },
  {
   "cell_type": "code",
   "execution_count": 36,
   "metadata": {},
   "outputs": [
    {
     "data": {
      "text/html": [
       "<div>\n",
       "<style scoped>\n",
       "    .dataframe tbody tr th:only-of-type {\n",
       "        vertical-align: middle;\n",
       "    }\n",
       "\n",
       "    .dataframe tbody tr th {\n",
       "        vertical-align: top;\n",
       "    }\n",
       "\n",
       "    .dataframe thead th {\n",
       "        text-align: right;\n",
       "    }\n",
       "</style>\n",
       "<table border=\"1\" class=\"dataframe\">\n",
       "  <thead>\n",
       "    <tr style=\"text-align: right;\">\n",
       "      <th></th>\n",
       "      <th>datetime</th>\n",
       "      <th>humidity</th>\n",
       "      <th>pressure</th>\n",
       "      <th>temperature</th>\n",
       "      <th>wind_direction</th>\n",
       "      <th>wind speed</th>\n",
       "      <th>description</th>\n",
       "    </tr>\n",
       "  </thead>\n",
       "  <tbody>\n",
       "    <tr>\n",
       "      <td>300</td>\n",
       "      <td>2012-10-14 00:00:00</td>\n",
       "      <td>52.0</td>\n",
       "      <td>1021.0</td>\n",
       "      <td>289.97</td>\n",
       "      <td>270.0</td>\n",
       "      <td>4.0</td>\n",
       "      <td>NaN</td>\n",
       "    </tr>\n",
       "    <tr>\n",
       "      <td>318</td>\n",
       "      <td>2012-10-14 18:00:00</td>\n",
       "      <td>67.0</td>\n",
       "      <td>1026.0</td>\n",
       "      <td>291.16</td>\n",
       "      <td>30.0</td>\n",
       "      <td>1.0</td>\n",
       "      <td>NaN</td>\n",
       "    </tr>\n",
       "    <tr>\n",
       "      <td>358</td>\n",
       "      <td>2012-10-16 10:00:00</td>\n",
       "      <td>93.0</td>\n",
       "      <td>1018.0</td>\n",
       "      <td>287.02</td>\n",
       "      <td>300.0</td>\n",
       "      <td>1.0</td>\n",
       "      <td>NaN</td>\n",
       "    </tr>\n",
       "    <tr>\n",
       "      <td>401</td>\n",
       "      <td>2012-10-18 05:00:00</td>\n",
       "      <td>72.0</td>\n",
       "      <td>1013.0</td>\n",
       "      <td>290.22</td>\n",
       "      <td>290.0</td>\n",
       "      <td>3.0</td>\n",
       "      <td>NaN</td>\n",
       "    </tr>\n",
       "    <tr>\n",
       "      <td>440</td>\n",
       "      <td>2012-10-19 20:00:00</td>\n",
       "      <td>46.0</td>\n",
       "      <td>NaN</td>\n",
       "      <td>299.58</td>\n",
       "      <td>30.0</td>\n",
       "      <td>3.0</td>\n",
       "      <td>NaN</td>\n",
       "    </tr>\n",
       "    <tr>\n",
       "      <td>...</td>\n",
       "      <td>...</td>\n",
       "      <td>...</td>\n",
       "      <td>...</td>\n",
       "      <td>...</td>\n",
       "      <td>...</td>\n",
       "      <td>...</td>\n",
       "      <td>...</td>\n",
       "    </tr>\n",
       "    <tr>\n",
       "      <td>14749</td>\n",
       "      <td>2014-06-08 01:00:00</td>\n",
       "      <td>NaN</td>\n",
       "      <td>1008.0</td>\n",
       "      <td>295.50</td>\n",
       "      <td>273.0</td>\n",
       "      <td>6.0</td>\n",
       "      <td>haze</td>\n",
       "    </tr>\n",
       "    <tr>\n",
       "      <td>14758</td>\n",
       "      <td>2014-06-08 10:00:00</td>\n",
       "      <td>NaN</td>\n",
       "      <td>1009.0</td>\n",
       "      <td>286.32</td>\n",
       "      <td>186.0</td>\n",
       "      <td>1.0</td>\n",
       "      <td>mist</td>\n",
       "    </tr>\n",
       "    <tr>\n",
       "      <td>24346</td>\n",
       "      <td>2015-07-12 22:00:00</td>\n",
       "      <td>79.0</td>\n",
       "      <td>1008.0</td>\n",
       "      <td>298.57</td>\n",
       "      <td>NaN</td>\n",
       "      <td>6.0</td>\n",
       "      <td>haze</td>\n",
       "    </tr>\n",
       "    <tr>\n",
       "      <td>32985</td>\n",
       "      <td>2016-07-06 21:00:00</td>\n",
       "      <td>70.0</td>\n",
       "      <td>1008.0</td>\n",
       "      <td>296.30</td>\n",
       "      <td>360.0</td>\n",
       "      <td>NaN</td>\n",
       "      <td>mist</td>\n",
       "    </tr>\n",
       "    <tr>\n",
       "      <td>42554</td>\n",
       "      <td>2017-08-09 14:00:00</td>\n",
       "      <td>NaN</td>\n",
       "      <td>1014.0</td>\n",
       "      <td>288.53</td>\n",
       "      <td>310.0</td>\n",
       "      <td>4.0</td>\n",
       "      <td>haze</td>\n",
       "    </tr>\n",
       "  </tbody>\n",
       "</table>\n",
       "<p>178 rows × 7 columns</p>\n",
       "</div>"
      ],
      "text/plain": [
       "                  datetime  humidity  pressure  temperature  wind_direction  \\\n",
       "300    2012-10-14 00:00:00      52.0    1021.0       289.97           270.0   \n",
       "318    2012-10-14 18:00:00      67.0    1026.0       291.16            30.0   \n",
       "358    2012-10-16 10:00:00      93.0    1018.0       287.02           300.0   \n",
       "401    2012-10-18 05:00:00      72.0    1013.0       290.22           290.0   \n",
       "440    2012-10-19 20:00:00      46.0       NaN       299.58            30.0   \n",
       "...                    ...       ...       ...          ...             ...   \n",
       "14749  2014-06-08 01:00:00       NaN    1008.0       295.50           273.0   \n",
       "14758  2014-06-08 10:00:00       NaN    1009.0       286.32           186.0   \n",
       "24346  2015-07-12 22:00:00      79.0    1008.0       298.57             NaN   \n",
       "32985  2016-07-06 21:00:00      70.0    1008.0       296.30           360.0   \n",
       "42554  2017-08-09 14:00:00       NaN    1014.0       288.53           310.0   \n",
       "\n",
       "       wind speed description  \n",
       "300           4.0         NaN  \n",
       "318           1.0         NaN  \n",
       "358           1.0         NaN  \n",
       "401           3.0         NaN  \n",
       "440           3.0         NaN  \n",
       "...           ...         ...  \n",
       "14749         6.0        haze  \n",
       "14758         1.0        mist  \n",
       "24346         6.0        haze  \n",
       "32985         NaN        mist  \n",
       "42554         4.0        haze  \n",
       "\n",
       "[178 rows x 7 columns]"
      ]
     },
     "execution_count": 36,
     "metadata": {},
     "output_type": "execute_result"
    }
   ],
   "source": [
    "sf_df_clean[sf_df_clean.isnull().any(axis=1)]"
   ]
  },
  {
   "cell_type": "markdown",
   "metadata": {},
   "source": [
    "we can either fill the missing values or delete the rows.  \n",
    "we could use interpolation to fill missing data. Interpolate values acording to the adjacent hours, linear or nearest neighbours.\n",
    "Few thing we should consider:\n",
    "* Does interpolation fits the data? \n",
    "* Can we interpolate if there is more then on consecutive values.  \n",
    "\n",
    "Because the number of rows is insignificant (only 178 out of more then 40000 rows) we will delete them."
   ]
  },
  {
   "cell_type": "code",
   "execution_count": 40,
   "metadata": {},
   "outputs": [
    {
     "data": {
      "text/plain": [
       "44282"
      ]
     },
     "execution_count": 40,
     "metadata": {},
     "output_type": "execute_result"
    }
   ],
   "source": [
    "sf_df_clean = sf_df_clean.dropna(how='any')\n",
    "len(sf_df_clean)"
   ]
  },
  {
   "cell_type": "markdown",
   "metadata": {},
   "source": [
    "wind speed\n",
    "categorize the data\n",
    "visulize the "
   ]
  },
  {
   "cell_type": "code",
   "execution_count": 43,
   "metadata": {},
   "outputs": [
    {
     "data": {
      "text/plain": [
       "<seaborn.axisgrid.PairGrid at 0x7f01641aa278>"
      ]
     },
     "execution_count": 43,
     "metadata": {},
     "output_type": "execute_result"
    },
    {
     "data": {
      "image/png": "[encoded data removed]",
      "text/plain": [
       "<Figure size 432x432 with 30 Axes>"
      ]
     },
     "metadata": {
      "needs_background": "light"
     },
     "output_type": "display_data"
    }
   ],
   "source": [
    "sns.pairplot(sf_df_clean[['humidity', 'pressure', 'temperature', 'wind_direction', 'wind speed']],\n",
    "             palette = 'seismic',size=1.2,diag_kind = 'kde',diag_kws=dict(shade=True),plot_kws=dict(s=10))"
   ]
  },
  {
   "cell_type": "markdown",
   "metadata": {},
   "source": [
    "Let's get back to [`root`](https://docs.scipy.org/doc/scipy/reference/generated/scipy.optimize.root.html#scipy.optimize.root):\n",
    "One of the functions parameters is *method*. We can choose the type of solver out of the listed options.  \n",
    "Each option need different intial parameters to start to solve for the roots.\n",
    "\n",
    "The defult solver is `hybr` - MINPACK’s hybrd and hybrj routines (modified Powell method).\n",
    "This rotine needs an inital geuss and find the closest root"
   ]
  },
  {
   "cell_type": "code",
   "execution_count": null,
   "metadata": {},
   "outputs": [],
   "source": [
    "sol = root(humps)"
   ]
  },
  {
   "cell_type": "markdown",
   "metadata": {},
   "source": [
    "Another solver is `krylov`"
   ]
  },
  {
   "cell_type": "code",
   "execution_count": null,
   "metadata": {},
   "outputs": [],
   "source": [
    "sol = root(humps, method='krylov', x0=0.0)\n",
    "sol"
   ]
  },
  {
   "cell_type": "markdown",
   "metadata": {},
   "source": [
    "There are other root solving methods that require different parameters to intialize rotine. [see documantation](https://docs.scipy.org/doc/scipy/reference/generated/scipy.optimize.root.html#scipy.optimize.root)"
   ]
  },
  {
   "cell_type": "markdown",
   "metadata": {},
   "source": [
    "---\n",
    "### **Curve Fit**\n",
    "We can define an exponential function. The is defined by the three arguments."
   ]
  },
  {
   "cell_type": "code",
   "execution_count": null,
   "metadata": {},
   "outputs": [],
   "source": [
    "from scipy.optimize import curve_fit"
   ]
  },
  {
   "cell_type": "code",
   "execution_count": null,
   "metadata": {},
   "outputs": [],
   "source": [
    "def exp(x, a, b, c):\n",
    "    return a * np.exp(b * x) + c"
   ]
  },
  {
   "cell_type": "markdown",
   "metadata": {},
   "source": [
    "We can add random noise to the functions original values, and try to reproduce the functions original arguments."
   ]
  },
  {
   "cell_type": "code",
   "execution_count": null,
   "metadata": {},
   "outputs": [],
   "source": [
    "a, b, c = 2, 0.6, 3\n",
    "x = np.linspace(0, 10, 1000)\n",
    "y = exp(x, a, b, c)\n",
    "y_pertubate = y + np.random.normal(0, 10, y.shape[0])\n",
    "plt.scatter(x, y_pertubate, s=2, color='C0', label=\"data\")\n",
    "plt.plot(x, y, color='C1', label=f\"$y={a} * e^({b}x) + {c}$\")\n",
    "plt.legend()\n",
    "plt.show()"
   ]
  },
  {
   "cell_type": "markdown",
   "metadata": {},
   "source": [
    "To fit the data to the function we can use [`scipy.optimize.curve_fit()`](https://docs.scipy.org/doc/scipy/reference/generated/scipy.optimize.curve_fit.html).  \\\n",
    "`curve_fit` uses non-linear least squares to fit a function, f, to data.  \n",
    "Not like polyfit or interpolation we can try to fit any kind of function in this example an exponential function."
   ]
  },
  {
   "cell_type": "code",
   "execution_count": null,
   "metadata": {},
   "outputs": [],
   "source": [
    "popt, pcov = curve_fit(exp, x, y_pertubate)\n",
    "popt"
   ]
  },
  {
   "cell_type": "markdown",
   "metadata": {},
   "source": [
    "We can plot the original function against the the fitted function"
   ]
  },
  {
   "cell_type": "code",
   "execution_count": null,
   "metadata": {},
   "outputs": [],
   "source": [
    "plt.scatter(x, y_pertubate, s=2, color='C0', label=\"data\")\n",
    "plt.plot(x, y, 'C1', label=f\"y={a} * e^({b}x) + {c}\")\n",
    "plt.plot(x, exp(x, popt[0], popt[1], popt[2]), '--C2', label=\"curve fit\")\n",
    "plt.legend()\n",
    "plt.show()"
   ]
  },
  {
   "cell_type": "markdown",
   "metadata": {},
   "source": [
    "---\n",
    "### **One Dimensional Minimization**\n",
    "\n",
    "The function [`scipy.optimize.minimize_scalar()`](https://docs.scipy.org/doc/scipy/reference/generated/scipy.optimize.minimize_scalar.html#scipy.optimize.minimize_scalar) finds the minimum\n",
    "value of a one-dimensional function."
   ]
  },
  {
   "cell_type": "code",
   "execution_count": null,
   "metadata": {},
   "outputs": [],
   "source": [
    "x = np.linspace(-1, 1.5, 50)\n",
    "y = humps(x)\n",
    "plt.plot(x, y)\n",
    "plt.yticks(np.arange(0, 100, 10))\n",
    "plt.xticks(np.arange(-1, 1.6, 0.1))\n",
    "plt.grid()\n",
    "plt.show()"
   ]
  },
  {
   "cell_type": "code",
   "execution_count": null,
   "metadata": {},
   "outputs": [],
   "source": [
    "from scipy.optimize import minimize_scalar"
   ]
  },
  {
   "cell_type": "code",
   "execution_count": null,
   "metadata": {},
   "outputs": [],
   "source": [
    "res = minimize_scalar(humps)\n",
    "print(res)\n",
    "res.x, humps(res.x)"
   ]
  },
  {
   "cell_type": "markdown",
   "metadata": {},
   "source": [
    "We can use the `bounded` method to find the minimum in a limited area."
   ]
  },
  {
   "cell_type": "code",
   "execution_count": null,
   "metadata": {},
   "outputs": [],
   "source": [
    "res = minimize_scalar(humps, bounds=(0.7, 0.8), method='bounded')\n",
    "print(res.x, humps(res.x))\n",
    "res = minimize_scalar(humps, bounds=(0.5, 0.7), method='bounded', tol=1e-3)\n",
    "print(res.x, humps(res.x))\n",
    "res = minimize_scalar(humps, bounds=(0.5, 0.8), method='bounded', tol=1e-1)\n",
    "print(res.x, humps(res.x))"
   ]
  },
  {
   "cell_type": "markdown",
   "metadata": {},
   "source": [
    "---\n",
    "### **Global optimization**\n",
    "Global optimization aims to find the global minimum of a function within given bounds, in the presence of potentially many local minima.  \n",
    "Typically, global minimizers efficiently search the parameter space, while using a local minimizer (e.g., `minimize()` or `minimize_scalar()`) under the hood.  \n",
    "SciPy contains a number of good global optimizers. Here, we’ll use those on the same objective function, namely the eggholder function:"
   ]
  },
  {
   "cell_type": "code",
   "execution_count": null,
   "metadata": {},
   "outputs": [],
   "source": [
    "def eggholder(x):\n",
    "    return (-(x[1] + 47) * np.sin(np.sqrt(abs(x[0]/2 + (x[1]  + 47))))\n",
    "            -x[0] * np.sin(np.sqrt(abs(x[0] - (x[1]  + 47)))))\n",
    "\n",
    "bounds = [(-512, 512), (-512, 512)]"
   ]
  },
  {
   "cell_type": "code",
   "execution_count": null,
   "metadata": {},
   "outputs": [],
   "source": [
    "from mpl_toolkits.mplot3d import Axes3D\n",
    "\n",
    "x = np.arange(-512, 513)\n",
    "y = np.arange(-512, 513)\n",
    "xgrid, ygrid = np.meshgrid(x, y)\n",
    "xy = np.stack([xgrid, ygrid])\n",
    "\n",
    "fig = plt.figure()\n",
    "ax = fig.add_subplot(111, projection='3d')\n",
    "ax.view_init(45, -45)\n",
    "ax.plot_surface(xgrid, ygrid, eggholder(xy), cmap='terrain')\n",
    "ax.set_xlabel('x')\n",
    "ax.set_ylabel('y')\n",
    "ax.set_zlabel('eggholder(x, y)')\n",
    "plt.show()"
   ]
  },
  {
   "cell_type": "markdown",
   "metadata": {},
   "source": [
    "We now use the global optimizers to obtain the minimum and the function value at the minimum.  \n",
    "We’ll store the results in a dictionary so we can compare different optimization results later."
   ]
  },
  {
   "cell_type": "code",
   "execution_count": null,
   "metadata": {},
   "outputs": [],
   "source": [
    "from scipy.optimize import shgo, dual_annealing, differential_evolution, basinhopping\n",
    "results = dict()\n",
    "results['shgo'] = shgo(eggholder, bounds) # SHGO stands for “simplicial global optimization”.\n",
    "results['shgo']"
   ]
  },
  {
   "cell_type": "code",
   "execution_count": null,
   "metadata": {},
   "outputs": [],
   "source": [
    "results['DA'] = dual_annealing(eggholder, bounds)\n",
    "results['DA']"
   ]
  },
  {
   "cell_type": "markdown",
   "metadata": {},
   "source": [
    "All optimizers return an `OptimizeResult`, which in addition to the solution contains information on the number of function evaluations, whether the optimization was successful, and more."
   ]
  },
  {
   "cell_type": "code",
   "execution_count": null,
   "metadata": {},
   "outputs": [],
   "source": [
    "results['DE'] = differential_evolution(eggholder, bounds)\n",
    "results['BH'] = basinhopping(eggholder, bounds)"
   ]
  },
  {
   "cell_type": "markdown",
   "metadata": {},
   "source": [
    "`shgo` has a second method, which returns all local minima rather than only what it thinks is the global minimum:"
   ]
  },
  {
   "cell_type": "code",
   "execution_count": null,
   "metadata": {},
   "outputs": [],
   "source": [
    "results['shgo_sobol'] = shgo(eggholder, bounds, n=200, iters=5, sampling_method='sobol')"
   ]
  },
  {
   "cell_type": "code",
   "execution_count": null,
   "metadata": {},
   "outputs": [],
   "source": [
    "results['shgo_sobol']"
   ]
  },
  {
   "cell_type": "code",
   "execution_count": null,
   "metadata": {},
   "outputs": [],
   "source": [
    "fig = plt.figure()\n",
    "ax = fig.add_subplot(111)\n",
    "im = ax.imshow(eggholder(xy), interpolation='bilinear', origin='lower', cmap='gray')\n",
    "ax.set_xlabel('x')\n",
    "ax.set_ylabel('y')\n",
    "def plot_point(res, marker='o', color=None):\n",
    "    ax.plot(512+res.x[0], 512+res.x[1], marker=marker, color=color, ms=10)\n",
    "\n",
    "plot_point(results['BH'], color='y')  # basinhopping           - yellow\n",
    "plot_point(results['DE'], color='c')  # differential_evolution - cyan\n",
    "plot_point(results['DA'], color='w')  # dual_annealing.        - white\n",
    "\n",
    "# SHGO produces multiple minima, plot them all (with a smaller marker size)\n",
    "plot_point(results['shgo'], color='r', marker='+')\n",
    "plot_point(results['shgo_sobol'], color='r', marker='x')\n",
    "for i in range(results['shgo_sobol'].xl.shape[0]):\n",
    "    ax.plot(512 + results['shgo_sobol'].xl[i, 0],\n",
    "            512 + results['shgo_sobol'].xl[i, 1],\n",
    "            'ro', ms=2)\n",
    "\n",
    "ax.set_xlim([-4, 514*2])\n",
    "ax.set_ylim([-4, 514*2])\n",
    "plt.show()"
   ]
  }
 ],
 "metadata": {
  "kernelspec": {
   "display_name": "Python 3",
   "language": "python",
   "name": "python3"
  },
  "language_info": {
   "codemirror_mode": {
    "name": "ipython",
    "version": 3
   },
   "file_extension": ".py",
   "mimetype": "text/x-python",
   "name": "python",
   "nbconvert_exporter": "python",
   "pygments_lexer": "ipython3",
   "version": "3.7.3"
  }
 },
 "nbformat": 4,
 "nbformat_minor": 4
}
