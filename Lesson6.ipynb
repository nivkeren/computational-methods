{
 "cells": [
  {
   "cell_type": "markdown",
   "metadata": {},
   "source": [
    "# **Computational Methods**\n",
    "## **Interpolation**\n",
    "\n",
    "Written by Niv Keren, nivkeren1@mail.tau.ac.il \n",
    "\n",
    "*Computational Methods* class: 0341-2300\n",
    "\n",
    "2020/Semester I; Tuesdays 14:00-16:00\n",
    "\n",
    "FACULTY OF EXACT SCIENCES | GEOPHYSICS & PLANETARY SCIENCES  \n",
    "Tel Aviv University\n",
    "\n",
    "---\n",
    "to refresh your memory about interpolation maybe you'd like to browse this wikipedia entry:\n",
    "https://en.wikipedia.org/wiki/Interpolation \n",
    " \n",
    "\n",
    "\n",
    " \n",
    "  Matlab's function 'interp1' receives as input\n",
    "  x and y values of functions at certain locations,\n",
    "  and it interpolates them to get the values in other\n",
    "  locations that are specified. Methods of interpolation\n",
    "  go from 'nearest neighbor', through 'linear interpolation'\n",
    "  to 'cubic interpolation'.\n",
    " "
   ]
  },
  {
   "cell_type": "markdown",
   "metadata": {},
   "source": [
    "Let's calulate the sine function at 60 points between\n",
    "0 and 2*pi."
   ]
  },
  {
   "cell_type": "code",
   "execution_count": null,
   "metadata": {},
   "outputs": [],
   "source": [
    "x1 = linspace(0,2*pi,60);"
   ]
  },
  {
   "cell_type": "markdown",
   "metadata": {},
   "source": [
    "Let's also sample this function at a much coarser\n",
    "sampling - only six points on the same interval."
   ]
  },
  {
   "cell_type": "code",
   "execution_count": null,
   "metadata": {},
   "outputs": [],
   "source": [
    "x2 = linspace(0,2*pi,6);"
   ]
  },
  {
   "cell_type": "markdown",
   "metadata": {},
   "source": [
    "First, let's see the nice plot, of the fine sampling."
   ]
  },
  {
   "cell_type": "code",
   "execution_count": null,
   "metadata": {},
   "outputs": [],
   "source": [
    "plot (x1,sin(x1))\n",
    "hold"
   ]
  },
  {
   "cell_type": "markdown",
   "metadata": {},
   "source": [
    "Now let's see the coarse sampling. The function 'plot'\n",
    "simply connects the points with straight lines."
   ]
  },
  {
   "cell_type": "code",
   "execution_count": null,
   "metadata": {},
   "outputs": [],
   "source": [
    "plot (x2,sin(x2),'--')"
   ]
  },
  {
   "cell_type": "markdown",
   "metadata": {},
   "source": [
    "Now let's interpolate. The function interp1\n",
    "gets the available points (here, the six points)\n",
    "and then the new x points where the function should\n",
    "be interpolated. By default the interpolation\n",
    "method is 'linear', i.e., straight lines simply connect\n",
    "the points."
   ]
  },
  {
   "cell_type": "code",
   "execution_count": null,
   "metadata": {},
   "outputs": [],
   "source": [
    "z2 = interp1(x2,sin(x2),x1,'linear');\n",
    "plot (x1,z2,'k')"
   ]
  },
  {
   "cell_type": "markdown",
   "metadata": {},
   "source": [
    "'Nearest neighbor' interpolation simply takes the\n",
    "value of the nearest point (along x diretion)."
   ]
  },
  {
   "cell_type": "code",
   "execution_count": null,
   "metadata": {},
   "outputs": [],
   "source": [
    "u2 = interp1(x2,sin(x2),x1,'nearest');\n",
    "plot (x1,u2,'m')"
   ]
  },
  {
   "cell_type": "markdown",
   "metadata": {},
   "source": [
    "'Spline interpolation' connects the points with\n",
    "polynomials so that both the function and its\n",
    "derivatives are continuous. It's very good\n",
    "for very well-behaved, 'smooth' functions."
   ]
  },
  {
   "cell_type": "code",
   "execution_count": null,
   "metadata": {},
   "outputs": [],
   "source": [
    "s2 = interp1(x2,sin(x2),x1,'spline');\n",
    "plot(x1,s2,'g')"
   ]
  },
  {
   "cell_type": "markdown",
   "metadata": {},
   "source": [
    "Another example for interpolation - the human \n",
    "hearing threshold as a function of the frequency\n",
    " \n",
    "The script spl_freq.m (attached) defines the\n",
    "minimum sound pressure level that the human\n",
    "ear is sensitive to. Hz - frequencies (in Hertz)\n",
    "spl - minimal sound pressure level."
   ]
  },
  {
   "cell_type": "code",
   "execution_count": null,
   "metadata": {},
   "outputs": [],
   "source": [
    "spl_freq\n",
    "plot (Hz,spl,'o-')"
   ]
  },
  {
   "cell_type": "markdown",
   "metadata": {},
   "source": [
    "Because of the nature of the x-axis data, it is\n",
    "better to use logarithmic scale only on this axis.\n",
    "this is obtained by plotting with semilogx instead\n",
    "of 'plot'. "
   ]
  },
  {
   "cell_type": "code",
   "execution_count": null,
   "metadata": {},
   "outputs": [],
   "source": [
    "semilogx (Hz,spl,'o-')"
   ]
  },
  {
   "cell_type": "markdown",
   "metadata": {},
   "source": [
    "This is a good opportunity to introduce also the function\n",
    "'loglog' which plots in logarithmic scale for both \n",
    "x and y. In this case, since there are negative y values,\n",
    "it will 'protest' that it can't calculate all locations."
   ]
  },
  {
   "cell_type": "code",
   "execution_count": null,
   "metadata": {},
   "outputs": [],
   "source": [
    "loglog(Hz,spl,'-o');"
   ]
  },
  {
   "cell_type": "markdown",
   "metadata": {},
   "source": [
    "Back to semilogx"
   ]
  },
  {
   "cell_type": "code",
   "execution_count": null,
   "metadata": {},
   "outputs": [],
   "source": [
    "semilogx (Hz,spl,'o-')"
   ]
  },
  {
   "cell_type": "markdown",
   "metadata": {},
   "source": [
    "If we want to estimate the value of SPL at the\n",
    "frequency 2500 Hz, we can interpolate:\n",
    "(By the way, the notation 2.5e3 means 2.5*10^3)"
   ]
  },
  {
   "cell_type": "code",
   "execution_count": null,
   "metadata": {},
   "outputs": [],
   "source": [
    "interp1(Hz,spl,2500)"
   ]
  },
  {
   "cell_type": "markdown",
   "metadata": {},
   "source": [
    "We may believe that 'spline' will give a better\n",
    "interpolation."
   ]
  },
  {
   "cell_type": "code",
   "execution_count": null,
   "metadata": {},
   "outputs": [],
   "source": [
    "interp1(Hz,spl,2500,'spline')"
   ]
  },
  {
   "cell_type": "markdown",
   "metadata": {},
   "source": [
    "Let's look more closely at the interval \n",
    "between 2000 Hz and 5000 Hz, by interpolating\n",
    "at 100 points between those values. Let's \n",
    "compare (visually) linear and spline interpolation."
   ]
  },
  {
   "cell_type": "code",
   "execution_count": null,
   "metadata": {},
   "outputs": [],
   "source": [
    "Hzi = linspace(2000,5000);\n",
    "spli = interp1(Hz,spl,Hzi,'spline');\n",
    "semilogx (Hzi,spli,'--r')"
   ]
  },
  {
   "cell_type": "markdown",
   "metadata": {},
   "source": [
    "Now we can estimate where the smallest\n",
    "point is. Obviously, the accuracy of the value\n",
    "we get depends on how much the interpolation\n",
    "is accurate."
   ]
  },
  {
   "cell_type": "code",
   "execution_count": null,
   "metadata": {},
   "outputs": [],
   "source": [
    "min(spli)"
   ]
  },
  {
   "cell_type": "markdown",
   "metadata": {},
   "source": [
    "Usually we think of the function 'min' as such\n",
    "that simply gives us the value of 'y' at the minimum.\n",
    "It only goes over the vector it gets as input and\n",
    "finds the smallest one (no interpolation).\n",
    "\n",
    "However, if we supply it with two output arguments,\n",
    "the second one will be the index of the minimum in the\n",
    "vector.\n",
    " "
   ]
  },
  {
   "cell_type": "code",
   "execution_count": null,
   "metadata": {},
   "outputs": [],
   "source": [
    "[spl_min,ii] = min(spli)"
   ]
  },
  {
   "cell_type": "markdown",
   "metadata": {},
   "source": [
    "'ii' is not the x (in this case Hzi) value, but the location\n",
    "in the vector ('index')."
   ]
  },
  {
   "cell_type": "code",
   "execution_count": null,
   "metadata": {},
   "outputs": [],
   "source": [
    "Hzi(ii)"
   ]
  },
  {
   "cell_type": "markdown",
   "metadata": {},
   "source": [
    "SORTING and FIND\n",
    "-------------\n",
    " \n",
    "  Sorting is the action of rearranging the numbers in a \n",
    "  vector either in ascending or descending order.\n",
    "  \n",
    "  To demonstrate sorting we'll need the function 'randperm'\n",
    "  This function gets as input a natural number. It outputs \n",
    "  a vector with all the natural numbers up to the input value, \n",
    "  at a random order (no number repeats itself!).\n",
    " \n",
    "randperm(8)\n",
    "randperm(8)\n",
    "\n",
    "x = randperm(8)\n",
    "\n",
    " \n",
    "  The function 'sort' simply sorts the input\n",
    "  vector in an ascending order.\n",
    " \n",
    "\n",
    "doc sort\n",
    "xs = sort(x)\n",
    "\n",
    " \n",
    "  We can also sort the numbers in descending order.\n",
    " \n",
    "\n",
    "xs = sort(x,'descend')\n",
    "\n",
    " \n",
    "  If we specify an additional output argument,\n",
    "  it outputs a vector with the original places \n",
    "  of each value in the sorted vector.\n",
    " \n",
    "\n",
    "[xs,is] = sort(x);\n",
    "\n",
    " \n",
    "  If we give 'sort' a matrix, by default it operates \n",
    "  along the columns. We can change this with an \n",
    "  additional input argument that will specify the\n",
    "  dimension along which we want to sort.\n",
    " \n",
    "\n",
    "A = [randperm(6)' randperm(6)' randperm(6)' randperm(6)']\n",
    "\n",
    "sort(A,1)\n",
    "\n",
    "clear\n",
    "\n",
    "\n",
    " \n",
    "  The function 'find' is applied to a vector and then \n",
    "  outputs the indices where the value is not zero\n",
    "  (actually, where it is a logical 'true')\n",
    "  Example:\n",
    " \n",
    "doc find\n",
    "\n",
    "v = [12323 34 4 3  1 -43242 -6 6 0 45 0 -324 0];\n",
    "\n",
    "find(v)\n",
    "\n",
    " \n",
    "  This will return the indices where it is zero\n",
    " \n",
    "find(v==0)\n",
    "\n",
    " \n",
    "  We can use 'find' to change just the entries in the vector that \n",
    "  abides by some law, for example, the negative values:\n",
    " \n",
    "\n",
    "v(find(v<0))*2\n",
    "\n",
    " \n",
    "  If we really want to modify them, we'd rather first use 'find'\n",
    "  to prepare a vector with all the relevant indices.\n",
    " \n",
    "\n",
    "ind = find(v<0);\n",
    "v(ind) = v(ind)*2;"
   ]
  }
 ],
 "metadata": {
  "kernelspec": {
   "display_name": "Python 3",
   "language": "python",
   "name": "python3"
  },
  "language_info": {
   "codemirror_mode": {
    "name": "ipython",
    "version": 3
   },
   "file_extension": ".py",
   "mimetype": "text/x-python",
   "name": "python",
   "nbconvert_exporter": "python",
   "pygments_lexer": "ipython3",
   "version": "3.7.4"
  }
 },
 "nbformat": 4,
 "nbformat_minor": 4
}
