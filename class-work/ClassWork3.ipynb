{
 "cells": [
  {
   "cell_type": "markdown",
   "metadata": {},
   "source": [
    "# **Computational Methods**\n",
    "## **Class Work**\n",
    "### **Plotting**\n",
    "\n",
    "written by Niv Keren, nivkeren1@mail.tau.ac.il \n",
    "\n",
    "*Computational Methods* class: 0341-2300\n",
    "\n",
    "2020/Semester I; Tuesdays 14:00-16:00\n",
    "\n",
    "FACULTY OF EXACT SCIENCES | GEOPHYSICS & PLANETARY SCIENCES  \n",
    "Tel Aviv University\n",
    "\n",
    "---\n",
    "1. Import the `numpy` and `pyplot` libraries"
   ]
  },
  {
   "cell_type": "code",
   "execution_count": null,
   "metadata": {},
   "outputs": [],
   "source": [
    "import numpy as np\n",
    "from matplotlib import pyplot as plt\n",
    "plt.rcParams['figure.figsize'] = [15, 6.67]"
   ]
  },
  {
   "cell_type": "markdown",
   "metadata": {},
   "source": [
    "The script temperature.py (attached) prepares a vector called 'temperature' with temperatures from three \n",
    "different places measured during a month.\n",
    "\n",
    "1. load the data to the Workspace"
   ]
  },
  {
   "cell_type": "code",
   "execution_count": null,
   "metadata": {},
   "outputs": [],
   "source": [
    "from temperature import temperature"
   ]
  },
  {
   "cell_type": "markdown",
   "metadata": {},
   "source": [
    "2. plot the three temperatures on the same figure "
   ]
  },
  {
   "cell_type": "code",
   "execution_count": null,
   "metadata": {},
   "outputs": [],
   "source": []
  },
  {
   "cell_type": "markdown",
   "metadata": {},
   "source": [
    "3. add labels: *day of month* and *temperature [C]*"
   ]
  },
  {
   "cell_type": "code",
   "execution_count": null,
   "metadata": {},
   "outputs": [],
   "source": []
  },
  {
   "cell_type": "markdown",
   "metadata": {},
   "source": [
    "We can calculate the mean temperature at the three locations use the `mean` function\n",
    "\n",
    "4. create a varible with the 3 average temperatures of the 3 sites"
   ]
  },
  {
   "cell_type": "code",
   "execution_count": null,
   "metadata": {},
   "outputs": [],
   "source": []
  },
  {
   "cell_type": "markdown",
   "metadata": {},
   "source": [
    "5. add a dashed line for each location, that shows the average temperature."
   ]
  },
  {
   "cell_type": "code",
   "execution_count": null,
   "metadata": {},
   "outputs": [],
   "source": []
  },
  {
   "cell_type": "markdown",
   "metadata": {},
   "source": [
    "6. calculate the median ('hetzion'), which is sometimes used instead of the mean. Plot it with a different line on the same plot."
   ]
  },
  {
   "cell_type": "code",
   "execution_count": null,
   "metadata": {},
   "outputs": [],
   "source": []
  },
  {
   "cell_type": "markdown",
   "metadata": {},
   "source": [
    "7. more things to do: add legend, add title, add grid..."
   ]
  },
  {
   "cell_type": "code",
   "execution_count": null,
   "metadata": {},
   "outputs": [],
   "source": []
  }
 ],
 "metadata": {
  "kernelspec": {
   "display_name": "Python 3",
   "language": "python",
   "name": "python3"
  },
  "language_info": {
   "codemirror_mode": {
    "name": "ipython",
    "version": 3
   },
   "file_extension": ".py",
   "mimetype": "text/x-python",
   "name": "python",
   "nbconvert_exporter": "python",
   "pygments_lexer": "ipython3",
   "version": "3.7.3"
  }
 },
 "nbformat": 4,
 "nbformat_minor": 4
}
