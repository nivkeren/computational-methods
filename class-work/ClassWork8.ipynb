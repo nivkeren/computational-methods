{
 "cells": [
  {
   "cell_type": "markdown",
   "metadata": {},
   "source": [
    "# **Computational Methods**\n",
    "## **Class Work**\n",
    "### **Numerical differentiation & Interpolation**\n",
    "\n",
    "written by Niv Keren, nivkeren1@mail.tau.ac.il \n",
    "\n",
    "*Computational Methods* class: 0341-2300\n",
    "\n",
    "2020/Semester I; Tuesdays 14:00-16:00\n",
    "\n",
    "FACULTY OF EXACT SCIENCES | GEOPHYSICS & PLANETARY SCIENCES  \n",
    "Tel Aviv University\n",
    "\n",
    "---\n",
    "1. Import the `pyplot` and `numpy` libraries."
   ]
  },
  {
   "cell_type": "code",
   "execution_count": 2,
   "metadata": {},
   "outputs": [],
   "source": [
    "import numpy as np\n",
    "import matplotlib.pyplot as plt"
   ]
  },
  {
   "cell_type": "markdown",
   "metadata": {},
   "source": [
    "2. Calaulte the integral of *1 / (sin(pi * x))* from *1 / 4* to *3 / 4*"
   ]
  },
  {
   "cell_type": "code",
   "execution_count": 6,
   "metadata": {},
   "outputs": [
    {
     "data": {
      "text/plain": [
       "0.1459298421030538"
      ]
     },
     "execution_count": 6,
     "metadata": {},
     "output_type": "execute_result"
    }
   ],
   "source": [
    "def foo(x):\n",
    "    pass"
   ]
  },
  {
   "cell_type": "markdown",
   "metadata": {},
   "source": [
    "The function *(1- x^2)^-0.5* describs half a circle with radius eqaul to 1.  \n",
    "There for the intrgral over the function between -1 to 1 is:  \n",
    "_**pi / 2 = 1.57079632679**_  \n",
    "\n",
    "We can check the accuracy of the differen integral methods:\n",
    "3. The trapezoid method with width of 0.05."
   ]
  },
  {
   "cell_type": "code",
   "execution_count": null,
   "metadata": {},
   "outputs": [],
   "source": []
  },
  {
   "cell_type": "markdown",
   "metadata": {},
   "source": [
    "4. The trapezoid method with width of 0.001."
   ]
  },
  {
   "cell_type": "code",
   "execution_count": null,
   "metadata": {},
   "outputs": [],
   "source": []
  },
  {
   "cell_type": "markdown",
   "metadata": {},
   "source": [
    "5. The adaptive Simpson method with width precition of 10 ^-7."
   ]
  },
  {
   "cell_type": "code",
   "execution_count": null,
   "metadata": {},
   "outputs": [],
   "source": []
  }
 ],
 "metadata": {
  "kernelspec": {
   "display_name": "Python 3",
   "language": "python",
   "name": "python3"
  },
  "language_info": {
   "codemirror_mode": {
    "name": "ipython",
    "version": 3
   },
   "file_extension": ".py",
   "mimetype": "text/x-python",
   "name": "python",
   "nbconvert_exporter": "python",
   "pygments_lexer": "ipython3",
   "version": "3.7.3"
  }
 },
 "nbformat": 4,
 "nbformat_minor": 4
}
