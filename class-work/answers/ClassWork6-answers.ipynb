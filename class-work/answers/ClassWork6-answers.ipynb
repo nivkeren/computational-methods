{
 "cells": [
  {
   "cell_type": "markdown",
   "metadata": {},
   "source": [
    "# **Computational Methods**\n",
    "## **Class Work**\n",
    "### **Interpolation**\n",
    "written by Niv Keren, nivkeren1@mail.tau.ac.il \n",
    "\n",
    "*Computational Methods* class: 0341-2300\n",
    "\n",
    "2020/Semester I; Tuesdays 14:00-16:00\n",
    "\n",
    "FACULTY OF EXACT SCIENCES | GEOPHYSICS & PLANETARY SCIENCES  \n",
    "Tel Aviv University\n",
    "\n",
    "---\n",
    "1. Import the `pyplot` and `numpy` libraries."
   ]
  },
  {
   "cell_type": "code",
   "execution_count": 72,
   "metadata": {},
   "outputs": [],
   "source": [
    "import numpy as np\n",
    "from matplotlib import pyplot as plt\n",
    "plt.rcParams['figure.figsize'] = [15, 6.67]\n",
    "%matplotlib inline"
   ]
  },
  {
   "cell_type": "markdown",
   "metadata": {},
   "source": [
    "2. Load and plot The file *EQ-4.6-IS.STLI..SHZ.npy.*  \n",
    "The file contains a seismogram, eight seconds of a 4.6 magnitude earthquake trace from as recived in the Sal'it seismic station at 04/07/1318.  \n",
    "The trace is the recorded ground speed with a frequancy of 40 [Hz] (1 / 40 [s]).  \n",
    "**Dont forget to add axis labels and title.**"
   ]
  },
  {
   "cell_type": "code",
   "execution_count": 65,
   "metadata": {},
   "outputs": [],
   "source": [
    "trace = np.load(\"../../files/EQ-4.6-IS.STLI..SHZ.npy\")\n",
    "t = np.arange(trace.shape[0]) / 40\n",
    "plt.xlabel(\"time [s]\")\n",
    "plt.ylabel(\"speed [m / s]\")\n",
    "plt.title(\"EQ-4.6-IS.STLI..SHZ\")\n",
    "plt.plot(t, trace)\n",
    "plt.show()"
   ]
  },
  {
   "cell_type": "markdown",
   "metadata": {},
   "source": [
    "3. Find the PGV(Peak Ground Velocity) of the seimogram and the time of the peak (in seconds)."
   ]
  },
  {
   "cell_type": "code",
   "execution_count": 66,
   "metadata": {},
   "outputs": [
    {
     "data": {
      "text/plain": [
       "(3.8009788719601716e-05, 7.1)"
      ]
     },
     "execution_count": 66,
     "metadata": {},
     "output_type": "execute_result"
    }
   ],
   "source": [
    "trace_abs = np.abs(trace)\n",
    "pgv = trace_abs.max()\n",
    "t_pgv = t[trace_abs.argmax()]\n",
    "pgv, t_pgv"
   ]
  },
  {
   "cell_type": "markdown",
   "metadata": {},
   "source": [
    "We want to learn the differences between the different interpolations.  \n",
    "First we will downsample the trace to 13 [Hz] (this is just an example, in reality down sampleing is done differently)"
   ]
  },
  {
   "cell_type": "code",
   "execution_count": 74,
   "metadata": {},
   "outputs": [],
   "source": [
    "t13 = t[: : 3]\n",
    "trace13 = trace[: : 3]"
   ]
  },
  {
   "cell_type": "markdown",
   "metadata": {},
   "source": [
    "4. Use linear and spline(cubic & quadratic) interpolations on the seismograms data."
   ]
  },
  {
   "cell_type": "code",
   "execution_count": 69,
   "metadata": {},
   "outputs": [],
   "source": [
    "from scipy.interpolate import interp1d"
   ]
  },
  {
   "cell_type": "code",
   "execution_count": 75,
   "metadata": {},
   "outputs": [],
   "source": [
    "f_linear = interp1d(x=t13, y=trace13, kind='linear')\n",
    "f_cubic = interp1d(x=t13, y=trace13, kind='cubic')\n",
    "f_quadratic = interp1d(x=t13, y=trace13, kind='quadratic')"
   ]
  },
  {
   "cell_type": "markdown",
   "metadata": {},
   "source": [
    "5. plot all 3 interpolations on the same plot\n",
    "\n",
    "Try to find the differences between the different interpolations. "
   ]
  },
  {
   "cell_type": "code",
   "execution_count": 77,
   "metadata": {},
   "outputs": [
    {
     "name": "stdout",
     "output_type": "stream",
     "text": [
      "Using matplotlib backend: Qt5Agg\n"
     ]
    }
   ],
   "source": [
    "%matplotlib auto\n",
    "plt.xlabel(\"time [s]\")\n",
    "plt.ylabel(\"speed [m / s]\")\n",
    "plt.title(\"EQ-4.6-IS.STLI..SHZ\")\n",
    "plt.plot(t, trace)\n",
    "plt.plot(t[1:-2], f_linear(t[1:-2]), '--', label='linear')\n",
    "plt.plot(t[1:-2], f_cubic(t[1:-2]), '--', label='cubic')\n",
    "plt.plot(t[1:-2], f_quadratic(t[1:-2]), '--', label='quadratic')\n",
    "plt.legend()\n",
    "plt.show()"
   ]
  },
  {
   "cell_type": "code",
   "execution_count": null,
   "metadata": {},
   "outputs": [],
   "source": []
  }
 ],
 "metadata": {
  "kernelspec": {
   "display_name": "Python 3",
   "language": "python",
   "name": "python3"
  },
  "language_info": {
   "codemirror_mode": {
    "name": "ipython",
    "version": 3
   },
   "file_extension": ".py",
   "mimetype": "text/x-python",
   "name": "python",
   "nbconvert_exporter": "python",
   "pygments_lexer": "ipython3",
   "version": "3.7.3"
  }
 },
 "nbformat": 4,
 "nbformat_minor": 4
}
