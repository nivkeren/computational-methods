{
 "cells": [
  {
   "cell_type": "markdown",
   "metadata": {},
   "source": [
    "# **Computational Methods**\n",
    "## **Optimization**\n",
    "\n",
    "Written by Niv Keren, nivkeren1@mail.tau.ac.il \n",
    "\n",
    "*Computational Methods* class: 0341-2300\n",
    "\n",
    "2020/Semester I; Tuesdays 14:00-16:00\n",
    "\n",
    "FACULTY OF EXACT SCIENCES | GEOPHYSICS & PLANETARY SCIENCES  \n",
    "Tel Aviv University\n",
    "\n",
    "---\n",
    "Many of the examples now will use the `humps` function"
   ]
  },
  {
   "cell_type": "code",
   "execution_count": 9,
   "metadata": {},
   "outputs": [],
   "source": [
    "import numpy as np\n",
    "import matplotlib.pyplot as plt\n",
    "plt.rcParams['figure.figsize'] = [15, 6.67]"
   ]
  },
  {
   "cell_type": "code",
   "execution_count": 5,
   "metadata": {},
   "outputs": [],
   "source": [
    "def humps(x):\n",
    "    return 1 / ((x - 0.3)**2 + .01) + 1 / ((x - .9)**2 + .04) - 6"
   ]
  },
  {
   "cell_type": "code",
   "execution_count": 10,
   "metadata": {},
   "outputs": [
    {
     "data": {
      "image/png": "[encoded data removed]",
      "text/plain": [
       "<Figure size 1080x480.24 with 1 Axes>"
      ]
     },
     "metadata": {
      "needs_background": "light"
     },
     "output_type": "display_data"
    }
   ],
   "source": [
    "x = np.linspace(0, 1, 20)\n",
    "y = humps(x)\n",
    "plt.plot(x, y)\n",
    "plt.show()"
   ]
  },
  {
   "cell_type": "markdown",
   "metadata": {},
   "source": [
    "Sometimes we need to pass functions as arguments to other functions. For that we need a way to treat functions as variables.\n",
    "\n",
    "An example of a \"functions function\" is [`scipy.optimize.root_scalar()`](https://docs.scipy.org/doc/scipy/reference/generated/scipy.optimize.root_scalar.html#scipy.optimize.root_scalar):   \\\n",
    "Let's find roots of a one-dimensional equation (not necessarily polynomial, which we can solve using the function `np.roots()`)\n",
    "\n",
    "In order to solve the equation we will use the function `root()`. `root()` needs an initial guess.  \n",
    "Suppose we know that a root exists near `x0 = 1.4` or `x1 = 2` as a second guess."
   ]
  },
  {
   "cell_type": "code",
   "execution_count": 59,
   "metadata": {},
   "outputs": [
    {
     "name": "stdout",
     "output_type": "stream",
     "text": [
      "    fjac: array([[-1.]])\n",
      "     fun: array([0.])\n",
      " message: 'The solution converged.'\n",
      "    nfev: 9\n",
      "     qtf: array([1.46842538e-11])\n",
      "       r: array([22.01281495])\n",
      "  status: 1\n",
      " success: True\n",
      "       x: array([1.29954968])\n"
     ]
    },
    {
     "data": {
      "text/plain": [
       "array([1.29954968])"
      ]
     },
     "execution_count": 59,
     "metadata": {},
     "output_type": "execute_result"
    }
   ],
   "source": [
    "from scipy.optimize import root\n",
    "sol = root(humps, x0=1.4)\n",
    "print(sol)\n",
    "\n",
    "sol.x"
   ]
  },
  {
   "cell_type": "markdown",
   "metadata": {},
   "source": [
    "We can also experiment with other initial guesses."
   ]
  },
  {
   "cell_type": "code",
   "execution_count": 62,
   "metadata": {},
   "outputs": [
    {
     "data": {
      "text/plain": [
       "array([1.29954968])"
      ]
     },
     "execution_count": 62,
     "metadata": {},
     "output_type": "execute_result"
    }
   ],
   "source": [
    "sol = root(humps, x0=6.5)\n",
    "sol.x"
   ]
  },
  {
   "cell_type": "markdown",
   "metadata": {},
   "source": [
    "An initial guess of 0.6 will produce another \n",
    "root of the function."
   ]
  },
  {
   "cell_type": "code",
   "execution_count": 66,
   "metadata": {},
   "outputs": [
    {
     "name": "stdout",
     "output_type": "stream",
     "text": [
      "[-0.13161802]\n",
      "[-0.13161802]\n"
     ]
    }
   ],
   "source": [
    "sol = root(humps, x0=0.2)\n",
    "print(sol.x)\n",
    "sol = root(humps, x0=0)\n",
    "print(sol.x)"
   ]
  },
  {
   "cell_type": "markdown",
   "metadata": {},
   "source": [
    "Instead of an initial guess we can give a lower and upper bound on the solution (bracket the solution)."
   ]
  },
  {
   "cell_type": "code",
   "execution_count": 70,
   "metadata": {},
   "outputs": [
    {
     "data": {
      "text/plain": [
       "array([1.29954968, 1.29954968])"
      ]
     },
     "execution_count": 70,
     "metadata": {},
     "output_type": "execute_result"
    }
   ],
   "source": [
    "sol = root(humps, (1, 1.5))\n",
    "sol.x"
   ]
  },
  {
   "cell_type": "markdown",
   "metadata": {},
   "source": [
    "The definition of an anonymous function can make use of all the variables defined in the workspace,  \n",
    "but it only uses their value at the time of definiton!! If they afterwards change, the value in the function\n",
    "definition is not modified!\n",
    "\n",
    "TO demonstrate that let's replace the value 0.3 in the definition by 'a', that will first have the\n",
    "same value."
   ]
  },
  {
   "cell_type": "markdown",
   "metadata": {},
   "source": [
    "a = 0.3;\n",
    "af_humps = @(x) 1./((x-a).^2+0.01)+1./((x-0.9).^2+0.04)-6"
   ]
  },
  {
   "cell_type": "markdown",
   "metadata": {},
   "source": [
    "If we clear 'a', af_humps will still work, since it used\n",
    "the value that 'a' had at the definition of af_humps."
   ]
  },
  {
   "cell_type": "markdown",
   "metadata": {},
   "source": [
    "af_humps(1)"
   ]
  },
  {
   "cell_type": "markdown",
   "metadata": {},
   "source": [
    "Changing the value of 'a' also has no effect, as expected."
   ]
  },
  {
   "cell_type": "markdown",
   "metadata": {},
   "source": [
    "a = 11.5;\n",
    "af_humps(1)"
   ]
  },
  {
   "cell_type": "markdown",
   "metadata": {},
   "source": [
    "af_humps = @(x) 1./((x-a).^2+0.01)+1./((x-0.9).^2+0.04)-6\n",
    "\n",
    "af_humps(1)"
   ]
  },
  {
   "cell_type": "markdown",
   "metadata": {},
   "source": [
    "Sometimes we might need the function 'feval' for that.\n",
    "This is the most trivial example of treating a function as an argument to pass to other functions.\n",
    "\n",
    "We can simply use the function name and pass it to 'feval' (works both for built-in functions and for \n",
    "M-file functions)"
   ]
  },
  {
   "cell_type": "markdown",
   "metadata": {},
   "source": [
    "af_humps([-1 0 1])\n",
    "feval(af_humps,[-1 0 1])"
   ]
  },
  {
   "cell_type": "markdown",
   "metadata": {},
   "source": [
    "We can define cell arrays of function handles:"
   ]
  },
  {
   "cell_type": "markdown",
   "metadata": {},
   "source": [
    "fhan = {af_humps @sin @cos}\n",
    "\n",
    "fhan{1}(5)\n",
    "fhan{2}(pi)\n",
    "\n",
    "for ii = 1:3\n",
    "   feval(fhan{ii},5)\n",
    "end"
   ]
  },
  {
   "cell_type": "markdown",
   "metadata": {},
   "source": [
    "The function 'functions' provides us with\n",
    "information about the function handle it \n",
    "received as an argument."
   ]
  },
  {
   "cell_type": "markdown",
   "metadata": {},
   "source": [
    "functions(fhan{1})\n",
    "functions(fhan{2})\n",
    "doc functions"
   ]
  },
  {
   "cell_type": "markdown",
   "metadata": {},
   "source": [
    "Let's get back to fzero:\n",
    "The function fzero is part of the 'optimization'\n",
    "toolbox. A toolbox is a 'package' of functions.\n",
    "The optimization toolbox is provided as part\n",
    "of the standard distribution of Matlab.\n",
    "\n",
    "We can control the way optimization functions work\n",
    "by an 'options' structure we pass as an input argument.\n",
    "We can use the function 'optimset' to create this structure.\n",
    "\n",
    "The input arguments to 'optimset' are pairs of control option\n",
    "(given as a string) and value.\n",
    "\n",
    "The control option 'display' controls the level of the printed\n",
    "output. 'iter' means an output at every iteration of the \n",
    "solution algorithm."
   ]
  },
  {
   "cell_type": "markdown",
   "metadata": {},
   "source": [
    "opt = optimset('display','iter');\n",
    "x = fzero(af_humps,[1 1.5],opt)"
   ]
  },
  {
   "cell_type": "markdown",
   "metadata": {},
   "source": [
    "We can obviously transfer the result of 'optimset'\n",
    "directly to fzero, without defining the structure\n",
    "'opt' in our workspace."
   ]
  },
  {
   "cell_type": "markdown",
   "metadata": {},
   "source": [
    "x = fzero(af_humps,[1 1.5],optimset('display','iter'))"
   ]
  },
  {
   "cell_type": "markdown",
   "metadata": {},
   "source": [
    "Other optional values for 'display':"
   ]
  },
  {
   "cell_type": "markdown",
   "metadata": {},
   "source": [
    "x = fzero(af_humps,[1 1.5],optimset('display','notify'))\n",
    "x = fzero(af_humps,[1 1.5],optimset('display','off'))\n",
    "x = fzero(af_humps,[1 1.5],optimset('display','final'));"
   ]
  },
  {
   "cell_type": "markdown",
   "metadata": {},
   "source": [
    "We can modify several control options.\n",
    "'tolx' is the tolerance on x - in the solution algorithm,\n",
    "when x changes by less than 'tolx', the function stops."
   ]
  },
  {
   "cell_type": "markdown",
   "metadata": {},
   "source": [
    "x = fzero(af_humps,[1 1.5],optimset('tolx',1e-5,'displ','iter'));"
   ]
  },
  {
   "cell_type": "markdown",
   "metadata": {},
   "source": [
    "One dimensional optimization. \n",
    "--------------------------------------------------\n",
    "The function 'fminbnd' finds the minimum\n",
    "value of a one-dimensional function."
   ]
  },
  {
   "cell_type": "markdown",
   "metadata": {},
   "source": [
    "ezplot(@humps,[-1 2])"
   ]
  },
  {
   "cell_type": "markdown",
   "metadata": {},
   "source": [
    "The function needs two bracketing values"
   ]
  },
  {
   "cell_type": "markdown",
   "metadata": {},
   "source": [
    "[xmin,value] = fminbnd(@humps,0.5,0.8)\n",
    "[xmin,value] = fminbnd(@humps,0.7,0.8)"
   ]
  },
  {
   "cell_type": "markdown",
   "metadata": {},
   "source": [
    "The same mechanism for passing control options is used"
   ]
  },
  {
   "cell_type": "markdown",
   "metadata": {},
   "source": [
    "[xmin,value] = fminbnd(@humps,0.7,0.8,optimset('tolfun',1e-3))\n",
    "[xmin,value] = fminbnd(@humps,0.5,0.8,optimset('tolfun',1e-3))\n",
    "[xmin,value] = fminbnd(@humps,0.5,0.8,optimset('tolfun',1e-1))"
   ]
  },
  {
   "cell_type": "markdown",
   "metadata": {},
   "source": [
    "Multi-dimensional optimization\n",
    "-----------------------------------------------------\n",
    "Let's look for the minimum of the Rosenbrock's 'banana' function.\n",
    "(https://en.wikipedia.org/wiki/Rosenbrock_function)\n",
    "\n",
    "First let's just plot the 'banana' function.\n",
    "It's easy to see algebraically that the minimum is at the\n",
    "location (1,1)."
   ]
  },
  {
   "cell_type": "markdown",
   "metadata": {},
   "source": [
    "[X,Y] = meshgrid(-1.5:0.125:1.5,-0.6:0.125:2.8);\n",
    "Z = 100*(Y-X.^2).^2+(1-X).^2;\n",
    "\n",
    "mesh(X,Y,Z)"
   ]
  },
  {
   "cell_type": "markdown",
   "metadata": {},
   "source": [
    "For the minimization we will use the function 'fminsearch'\n",
    "'fminsearch' uses the Nelder-Mead Simplex algorithm.\n",
    "(https://en.wikipedia.org/wiki/Nelder%E2%80%93Mead_method)\n",
    "\n",
    "We have to define our function. We will define it in the\n",
    "M file 'banana.m' (attached).\n",
    "\n",
    "Besides the function name or handle, fminsearch needs also \n",
    "an initial guess for x."
   ]
  },
  {
   "cell_type": "markdown",
   "metadata": {},
   "source": [
    "[xmin,value] = fminsearch(@banana,[0 0])\n",
    "\n",
    "[xmin,value] = fminsearch(@banana,[-5 10],optimset('displ','iter'));"
   ]
  },
  {
   "cell_type": "code",
   "execution_count": null,
   "metadata": {},
   "outputs": [],
   "source": []
  }
 ],
 "metadata": {
  "kernelspec": {
   "display_name": "Python 3",
   "language": "python",
   "name": "python3"
  },
  "language_info": {
   "codemirror_mode": {
    "name": "ipython",
    "version": 3
   },
   "file_extension": ".py",
   "mimetype": "text/x-python",
   "name": "python",
   "nbconvert_exporter": "python",
   "pygments_lexer": "ipython3",
   "version": "3.7.3"
  }
 },
 "nbformat": 4,
 "nbformat_minor": 4
}
